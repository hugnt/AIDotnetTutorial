{
 "cells": [
  {
   "cell_type": "markdown",
   "id": "d10d16d0",
   "metadata": {},
   "source": [
    "Ref: https://learn.microsoft.com/en-us/dotnet/machine-learning/how-to-guides/save-load-machine-learning-models-ml-net"
   ]
  },
  {
   "cell_type": "markdown",
   "id": "1ba48dd3",
   "metadata": {},
   "source": [
    "## 0. Add & Import packages"
   ]
  },
  {
   "cell_type": "code",
   "execution_count": 13,
   "id": "b0254897",
   "metadata": {
    "language_info": {
     "name": "polyglot-notebook"
    },
    "polyglot_notebook": {
     "kernelName": "csharp"
    }
   },
   "outputs": [
    {
     "data": {
      "text/html": [
       "<div><div></div><div></div><div><strong>Installed Packages</strong><ul><li><span>Microsoft.ML, 4.0.2</span></li><li><span>microsoft.ml.dataview, 4.0.2</span></li></ul></div></div>"
      ]
     },
     "metadata": {},
     "output_type": "display_data"
    }
   ],
   "source": [
    "#r \"nuget: Microsoft.ML\"\n",
    "#r \"nuget: Microsoft.ML.DataView\""
   ]
  },
  {
   "cell_type": "code",
   "execution_count": 14,
   "id": "659d53bb",
   "metadata": {
    "language_info": {
     "name": "polyglot-notebook"
    },
    "polyglot_notebook": {
     "kernelName": "csharp"
    }
   },
   "outputs": [],
   "source": [
    "using System;\n",
    "using System.IO;\n",
    "using Microsoft.ML;\n",
    "using Microsoft.ML.Data;\n",
    "using Microsoft.ML.Transforms.Text;\n",
    "using Microsoft.ML.Trainers;"
   ]
  },
  {
   "cell_type": "markdown",
   "id": "08cdffc1",
   "metadata": {},
   "source": [
    "## 1. Define data models\n",
    "### a. Input data"
   ]
  },
  {
   "cell_type": "code",
   "execution_count": 15,
   "id": "64a0d305",
   "metadata": {
    "language_info": {
     "name": "polyglot-notebook"
    },
    "polyglot_notebook": {
     "kernelName": "csharp"
    }
   },
   "outputs": [],
   "source": [
    "public class HousingData\n",
    "{\n",
    "    [LoadColumn(0)]\n",
    "    public float Size { get; set; }\n",
    "\n",
    "    [LoadColumn(1, 3)]\n",
    "    [VectorType(3)]\n",
    "    public float[] HistoricalPrices { get; set; }\n",
    "\n",
    "    [LoadColumn(4)]\n",
    "    [ColumnName(\"Label\")]\n",
    "    public float CurrentPrice { get; set; }\n",
    "}"
   ]
  },
  {
   "cell_type": "markdown",
   "id": "16a1c3f9",
   "metadata": {},
   "source": [
    "### b. Output data\n",
    "Like the Features and Label input column names, ML.NET has default names for the predicted value columns produced by a model. The names can differ depending on the task.\n",
    "Because the algorithm used in this sample is a linear regression algorithm, the default name of the output column is Score, which is defined by the ColumnName attribute on the PredictedPrice property."
   ]
  },
  {
   "cell_type": "code",
   "execution_count": 16,
   "id": "6eb38910",
   "metadata": {
    "language_info": {
     "name": "polyglot-notebook"
    },
    "polyglot_notebook": {
     "kernelName": "csharp"
    }
   },
   "outputs": [],
   "source": [
    "class HousingPrediction\n",
    "{\n",
    "    [ColumnName(\"Score\")]\n",
    "    public float PredictedPrice { get; set; }\n",
    "}"
   ]
  },
  {
   "cell_type": "markdown",
   "id": "e5e45c49",
   "metadata": {},
   "source": [
    "## 2. Set up data, pipeline and training"
   ]
  },
  {
   "cell_type": "code",
   "execution_count": null,
   "id": "61a37f90",
   "metadata": {
    "language_info": {
     "name": "polyglot-notebook"
    },
    "polyglot_notebook": {
     "kernelName": "csharp"
    }
   },
   "outputs": [],
   "source": [
    "HousingData[] housingData = new HousingData[]\n",
    "{\n",
    "    new HousingData\n",
    "    {\n",
    "        Size = 600f,\n",
    "        HistoricalPrices = new float[] { 100000f, 125000f, 122000f },\n",
    "        CurrentPrice = 170000f\n",
    "    },\n",
    "    new HousingData\n",
    "    {\n",
    "        Size = 1000f,\n",
    "        HistoricalPrices = new float[] { 200000f, 250000f, 230000f },\n",
    "        CurrentPrice = 225000f\n",
    "    },\n",
    "    new HousingData\n",
    "    {\n",
    "        Size = 1000f,\n",
    "        HistoricalPrices = new float[] { 126000f, 130000f, 200000f },\n",
    "        CurrentPrice = 195000f\n",
    "    }\n",
    "};\n",
    "\n",
    "// Create MLContext\n",
    "MLContext mlContext = new MLContext();\n",
    "\n",
    "// Load Data\n",
    "IDataView data = mlContext.Data.LoadFromEnumerable<HousingData>(housingData);\n",
    "\n",
    "// Define data preparation estimator\n",
    "EstimatorChain<RegressionPredictionTransformer<LinearRegressionModelParameters>> pipelineEstimator =\n",
    "    mlContext.Transforms.Concatenate(\"Features\", new string[] { \"Size\", \"HistoricalPrices\" })\n",
    "        .Append(mlContext.Transforms.NormalizeMinMax(\"Features\"))\n",
    "        .Append(mlContext.Regression.Trainers.Sdca());\n"
   ]
  },
  {
   "cell_type": "markdown",
   "id": "ee20c710",
   "metadata": {},
   "source": [
    "## 3. Save model\n",
    "### a. Save a model locally\n",
    "When saving a model, you need two things:\n",
    "1. The ITransformer of the model.\n",
    "2. The DataViewSchema of the ITransformer's expected input.\n",
    "- After training the model, use the Save method to save the trained model to a file called model.zip using the DataViewSchema of the input data."
   ]
  },
  {
   "cell_type": "code",
   "execution_count": null,
   "id": "720a45b4",
   "metadata": {
    "language_info": {
     "name": "polyglot-notebook"
    },
    "polyglot_notebook": {
     "kernelName": "csharp"
    }
   },
   "outputs": [],
   "source": [
    "// Save Trained Model\n",
    "mlContext.Model.Save(trainedModel, data.Schema, \"./ExportedModels/model.zip\");"
   ]
  },
  {
   "cell_type": "markdown",
   "id": "fca100b5",
   "metadata": {},
   "source": [
    "### b. Save an ONNX model locally\n",
    "To save an Open Neural Network Exchange (ONNX) version of your model locally, you must install the Microsoft.ML.OnnxConverter NuGet package.\n",
    "\n",
    "With the OnnxConverter package installed, you can use it to save your model into the ONNX format. This requires a Stream object, which you can provide as a FileStream using the File.Create method. The File.Create method takes a string parameter that represents the path of the ONNX model."
   ]
  },
  {
   "cell_type": "code",
   "execution_count": 26,
   "id": "eb45c4cd",
   "metadata": {
    "language_info": {
     "name": "polyglot-notebook"
    },
    "polyglot_notebook": {
     "kernelName": "csharp"
    }
   },
   "outputs": [
    {
     "data": {
      "text/html": [
       "<div><div></div><div></div><div><strong>Installed Packages</strong><ul><li><span>Microsoft.ML.OnnxConverter, 0.22.2</span></li><li><span>Microsoft.ML.OnnxTransformer, 4.0.2</span></li></ul></div></div>"
      ]
     },
     "metadata": {},
     "output_type": "display_data"
    }
   ],
   "source": [
    "#r \"nuget: Microsoft.ML.OnnxConverter\"\n",
    "#r \"nuget: Microsoft.ML.OnnxTransformer\""
   ]
  },
  {
   "cell_type": "code",
   "execution_count": 27,
   "id": "80d20bdf",
   "metadata": {
    "language_info": {
     "name": "polyglot-notebook"
    },
    "polyglot_notebook": {
     "kernelName": "csharp"
    }
   },
   "outputs": [],
   "source": [
    "using (var stream = File.Create(\"./ExportedModels/onnx_model.onnx\"))\n",
    "{\n",
    "    // With the stream created, you can call the ConvertToOnnx method and give it the trained model, \n",
    "    // the data used to train the model, and the stream. However, not all trainers and transformers\n",
    "    // are exportable to ONNX. For a complete list, see the Transforms and How to Choose an ML.NET Algorithm guides\n",
    "    mlContext.Model.ConvertToOnnx(trainedModel, data, stream);\n",
    "}"
   ]
  },
  {
   "cell_type": "markdown",
   "id": "95061ad4",
   "metadata": {},
   "source": [
    "## 3. Load a model\n",
    "### a. Load a model stored locally\n",
    "Models stored locally can be used in other processes or applications like ASP.NET Core and serverless web apps. For more information, see Use ML.NET in Web API and Deploy ML.NET Serverless Web App.\n",
    "\n",
    "In a separate application or process, use the Load method along with the file path to get the trained model into your application."
   ]
  },
  {
   "cell_type": "code",
   "execution_count": 28,
   "id": "32f29b60",
   "metadata": {
    "language_info": {
     "name": "polyglot-notebook"
    },
    "polyglot_notebook": {
     "kernelName": "csharp"
    }
   },
   "outputs": [],
   "source": [
    "//Define DataViewSchema for data preparation pipeline and trained model\n",
    "DataViewSchema modelSchema;\n",
    "\n",
    "// Load trained model\n",
    "ITransformer trainedModel = mlContext.Model.Load(\"./ExportedModels/model.zip\", out modelSchema);"
   ]
  },
  {
   "cell_type": "markdown",
   "id": "e57cb782",
   "metadata": {},
   "source": [
    "### b. Load an ONNX model locally\n",
    "To load in an ONNX model for predictions, install the Microsoft.ML.OnnxTransformer NuGet package.\n",
    "\n",
    "With the OnnxTransformer package installed, you can load an existing ONNX model by using the ApplyOnnxModel method. The required parameter is a string that's the path of the local ONNX model."
   ]
  },
  {
   "cell_type": "code",
   "execution_count": 30,
   "id": "34a24aa4",
   "metadata": {
    "language_info": {
     "name": "polyglot-notebook"
    },
    "polyglot_notebook": {
     "kernelName": "csharp"
    }
   },
   "outputs": [],
   "source": [
    "using Microsoft.ML.Transforms.Onnx;\n",
    "\n",
    "OnnxScoringEstimator estimator = mlContext.Transforms.ApplyOnnxModel(\"./ExportedModels/onnx_model.onnx\");"
   ]
  },
  {
   "cell_type": "markdown",
   "id": "b616c798",
   "metadata": {},
   "source": [
    "The ApplyOnnxModel method returns an OnnxScoringEstimator object. First, you need to load in the new data"
   ]
  },
  {
   "cell_type": "code",
   "execution_count": 31,
   "id": "dc25ab3e",
   "metadata": {
    "language_info": {
     "name": "polyglot-notebook"
    },
    "polyglot_notebook": {
     "kernelName": "csharp"
    }
   },
   "outputs": [],
   "source": [
    "HousingData[] newHousingData = new HousingData[]\n",
    "{\n",
    "    new()\n",
    "    {\n",
    "        Size = 1000f,\n",
    "        HistoricalPrices = new[] { 300_000f, 350_000f, 450_000f },\n",
    "        CurrentPrice = 550_00f\n",
    "    }\n",
    "};"
   ]
  },
  {
   "cell_type": "markdown",
   "id": "00f877fa",
   "metadata": {},
   "source": [
    "Load the new data into an IDataView using the LoadFromEnumerable method."
   ]
  },
  {
   "cell_type": "code",
   "execution_count": 32,
   "id": "4627d241",
   "metadata": {
    "language_info": {
     "name": "polyglot-notebook"
    },
    "polyglot_notebook": {
     "kernelName": "csharp"
    }
   },
   "outputs": [],
   "source": [
    "IDataView newHousingDataView = mlContext.Data.LoadFromEnumerable(newHousingData);"
   ]
  },
  {
   "cell_type": "markdown",
   "id": "4c6f5107",
   "metadata": {},
   "source": [
    "Now you can use the new IDataView to fit on the new data."
   ]
  },
  {
   "cell_type": "code",
   "execution_count": 33,
   "id": "b92ac288",
   "metadata": {
    "language_info": {
     "name": "polyglot-notebook"
    },
    "polyglot_notebook": {
     "kernelName": "csharp"
    }
   },
   "outputs": [],
   "source": [
    "estimator.Fit(newHousingDataView);"
   ]
  },
  {
   "cell_type": "markdown",
   "id": "c474906d",
   "metadata": {},
   "source": [
    "After using the Fit method on an estimator from ApplyOnnxModel, it can then be saved as a new model using the Save method described in the save a model locally section."
   ]
  },
  {
   "cell_type": "markdown",
   "id": "5111a61f",
   "metadata": {},
   "source": [
    "### c. Load a model stored remotely\n",
    "To load data preparation pipelines and models stored in a remote location into your application, use a Stream instead of a file path in the Load method."
   ]
  },
  {
   "cell_type": "code",
   "execution_count": null,
   "id": "1fde81e5",
   "metadata": {
    "language_info": {
     "name": "polyglot-notebook"
    },
    "polyglot_notebook": {
     "kernelName": "csharp"
    }
   },
   "outputs": [],
   "source": [
    "// Create MLContext\n",
    "MLContext mlContext = new MLContext();\n",
    "\n",
    "// Define DataViewSchema and ITransformers\n",
    "DataViewSchema modelSchema;\n",
    "ITransformer trainedModel;\n",
    "\n",
    "// Load data prep pipeline and trained model\n",
    "using (HttpClient client = new HttpClient())\n",
    "{\n",
    "    Stream modelFile = await client.GetStreamAsync(\"<YOUR-REMOTE-FILE-LOCATION>\");\n",
    "\n",
    "    trainedModel = mlContext.Model.Load(modelFile, out modelSchema);\n",
    "}"
   ]
  },
  {
   "cell_type": "markdown",
   "id": "56bc16cc",
   "metadata": {},
   "source": [
    "## 4. Work with separate data preparation and model pipelines\n",
    "Working with separate data preparation and model training pipelines is optional. Separation of pipelines makes it easier to inspect the learned model parameters. For predictions, it's easier to save and load a single pipeline that includes the data preparation and model training operations.\n",
    "When working with separate data preparation pipelines and models, the same process as single pipelines applies. The difference is that both pipelines need to be saved and loaded simultaneously.\n",
    "\n",
    "Given separate data preparation and model training pipelines:"
   ]
  },
  {
   "cell_type": "code",
   "execution_count": 34,
   "id": "cddf4d1d",
   "metadata": {
    "language_info": {
     "name": "polyglot-notebook"
    },
    "polyglot_notebook": {
     "kernelName": "csharp"
    }
   },
   "outputs": [],
   "source": [
    "// Define data preparation estimator\n",
    "IEstimator<ITransformer> dataPrepEstimator =\n",
    "    mlContext.Transforms.Concatenate(\"Features\", new string[] { \"Size\", \"HistoricalPrices\" })\n",
    "        .Append(mlContext.Transforms.NormalizeMinMax(\"Features\"));\n",
    "\n",
    "// Create data preparation transformer\n",
    "ITransformer dataPrepTransformer = dataPrepEstimator.Fit(data);\n",
    "\n",
    "// Define StochasticDualCoordinateAscent regression algorithm estimator\n",
    "var sdcaEstimator = mlContext.Regression.Trainers.Sdca();\n",
    "\n",
    "// Pre-process data using data prep operations\n",
    "IDataView transformedData = dataPrepTransformer.Transform(data);\n",
    "\n",
    "// Train regression model\n",
    "RegressionPredictionTransformer<LinearRegressionModelParameters> trainedModel = sdcaEstimator.Fit(transformedData);\n"
   ]
  },
  {
   "cell_type": "markdown",
   "id": "ff2f949d",
   "metadata": {},
   "source": [
    "### a. Save data preparation pipeline and trained model\n",
    "To save both the data preparation pipeline and trained model, use the following commands:"
   ]
  },
  {
   "cell_type": "code",
   "execution_count": 35,
   "id": "3b106c83",
   "metadata": {
    "language_info": {
     "name": "polyglot-notebook"
    },
    "polyglot_notebook": {
     "kernelName": "csharp"
    }
   },
   "outputs": [],
   "source": [
    "// Save Data Prep transformer\n",
    "mlContext.Model.Save(dataPrepTransformer, data.Schema, \"data_preparation_pipeline.zip\");\n",
    "\n",
    "// Save Trained Model\n",
    "mlContext.Model.Save(trainedModel, transformedData.Schema, \"model.zip\");"
   ]
  },
  {
   "cell_type": "markdown",
   "id": "40f71344",
   "metadata": {},
   "source": [
    "### b. Load data preparation pipeline and trained model"
   ]
  },
  {
   "cell_type": "code",
   "execution_count": null,
   "id": "43b2e1b2",
   "metadata": {
    "language_info": {
     "name": "polyglot-notebook"
    },
    "polyglot_notebook": {
     "kernelName": "csharp"
    }
   },
   "outputs": [],
   "source": [
    "// Create MLContext\n",
    "MLContext mlContext = new MLContext();\n",
    "\n",
    "// Define data preparation and trained model schemas\n",
    "DataViewSchema dataPrepPipelineSchema, modelSchema;\n",
    "\n",
    "// Load data preparation pipeline and trained model\n",
    "ITransformer dataPrepPipeline = mlContext.Model.Load(\"data_preparation_pipeline.zip\",out dataPrepPipelineSchema);\n",
    "ITransformer trainedModel = mlContext.Model.Load(\"model.zip\", out modelSchema);"
   ]
  }
 ],
 "metadata": {
  "kernelspec": {
   "display_name": ".NET (C#)",
   "language": "C#",
   "name": ".net-csharp"
  },
  "language_info": {
   "name": "polyglot-notebook"
  },
  "polyglot_notebook": {
   "kernelInfo": {
    "defaultKernelName": "csharp",
    "items": [
     {
      "aliases": [],
      "name": "csharp"
     }
    ]
   }
  }
 },
 "nbformat": 4,
 "nbformat_minor": 5
}
