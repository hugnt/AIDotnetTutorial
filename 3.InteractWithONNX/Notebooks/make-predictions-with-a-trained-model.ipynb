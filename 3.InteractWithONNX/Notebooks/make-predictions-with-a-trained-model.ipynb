{
 "cells": [
  {
   "cell_type": "markdown",
   "id": "f5705f0e",
   "metadata": {},
   "source": [
    "Ref: https://learn.microsoft.com/en-us/dotnet/machine-learning/how-to-guides/machine-learning-model-predictions-ml-net"
   ]
  },
  {
   "cell_type": "markdown",
   "id": "cfd9d685",
   "metadata": {},
   "source": [
    "## 0. Add & Import packages"
   ]
  },
  {
   "cell_type": "code",
   "execution_count": 22,
   "id": "8bf6f4eb",
   "metadata": {
    "language_info": {
     "name": "polyglot-notebook"
    },
    "polyglot_notebook": {
     "kernelName": "csharp"
    }
   },
   "outputs": [
    {
     "data": {
      "text/html": [
       "<div><div></div><div></div><div><strong>Installed Packages</strong><ul><li><span>Microsoft.ML, 4.0.2</span></li><li><span>Microsoft.ML.DataView, 4.0.2</span></li><li><span>Microsoft.ML.OnnxRuntime, 1.23.1</span></li><li><span>Microsoft.ML.OnnxTransformer, 4.0.2</span></li></ul></div></div>"
      ]
     },
     "metadata": {},
     "output_type": "display_data"
    }
   ],
   "source": [
    "#r \"nuget: Microsoft.ML\"\n",
    "#r \"nuget: Microsoft.ML.DataView\"\n",
    "#r \"nuget: Microsoft.ML.OnnxRuntime\"\n",
    "#r \"nuget: Microsoft.ML.OnnxTransformer\""
   ]
  },
  {
   "cell_type": "code",
   "execution_count": 23,
   "id": "43abe888",
   "metadata": {
    "language_info": {
     "name": "polyglot-notebook"
    },
    "polyglot_notebook": {
     "kernelName": "csharp"
    }
   },
   "outputs": [],
   "source": [
    "using System;\n",
    "using System.IO;\n",
    "using Microsoft.ML;\n",
    "using Microsoft.ML.Data;\n",
    "using Microsoft.ML.Transforms.Text;\n",
    "using Microsoft.ML.Trainers;\n",
    "using Microsoft.ML.Transforms.Onnx;"
   ]
  },
  {
   "cell_type": "code",
   "execution_count": null,
   "metadata": {
    "language_info": {
     "name": "polyglot-notebook"
    },
    "polyglot_notebook": {
     "kernelName": "csharp"
    }
   },
   "outputs": [],
   "source": [
    "public class HousingOnnxInput\n",
    "{\n",
    "    [ColumnName(\"Size\")]\n",
    "    public float Size { get; set; }\n",
    "\n",
    "    [ColumnName(\"HistoricalPrices\")]\n",
    "    public float[] HistoricalPrices { get; set; }\n",
    "}\n",
    "\n",
    "public class HousingOnnxOutput\n",
    "{\n",
    "    [ColumnName(\"Score.output\")]\n",
    "    public float PredictedPrice { get; set; }\n",
    "}\n",
    "var inputColumns = new string[]\n",
    "{\n",
    "    \"Size\", \"HistoricalPrices\"\n",
    "};\n",
    "\n",
    "var outputColumns = new string[] { \"Score\" };\n",
    "\n",
    "//Create MLContext\n",
    "MLContext mlContext = new MLContext();\n",
    "var onnxPredictionPipeline =\n",
    "    mlContext\n",
    "        .Transforms\n",
    "        .ApplyOnnxModel(\n",
    "            \"../ExportedModels/onnx_model.onnx\");\n",
    "var emptyDv = mlContext.Data.LoadFromEnumerable(new HousingOnnxInput[] { });\n",
    "var onnxPredictionPipelineTransformer = onnxPredictionPipeline.Fit(emptyDv);\n",
    "\n",
    "//Load Trained Model\n",
    "var onnxPredictionEngine = mlContext.Model.CreatePredictionEngine<HousingOnnxInput, HousingOnnxOutput>(onnxPredictionPipelineTransformer);\n",
    "var input = new HousingOnnxInput\n",
    "{\n",
    "    Size = 1000f,\n",
    "    HistoricalPrices = new float[] { 100000f, 125000f, 122000f }\n",
    "};\n",
    "var prediction = onnxPredictionEngine.Predict(input);\n",
    "\n",
    "// Predicted Price\n",
    "Console.WriteLine($\"Predicted Price: {prediction.PredictedPrice}\");"
   ]
  },
  {
   "cell_type": "markdown",
   "id": "08cdffc1",
   "metadata": {},
   "source": [
    "## 1. Create data models\n",
    "### a. Input data"
   ]
  },
  {
   "cell_type": "code",
   "execution_count": 11,
   "id": "64a0d305",
   "metadata": {
    "language_info": {
     "name": "polyglot-notebook"
    },
    "polyglot_notebook": {
     "kernelName": "csharp"
    }
   },
   "outputs": [],
   "source": [
    "public class HousingData\n",
    "{\n",
    "    [LoadColumn(0)]\n",
    "    public float Size { get; set; }\n",
    "\n",
    "    [LoadColumn(1, 3)]\n",
    "    [VectorType(3)]\n",
    "    public float[] HistoricalPrices { get; set; }\n",
    "\n",
    "    [LoadColumn(4)]\n",
    "    [ColumnName(\"Label\")]\n",
    "    public float CurrentPrice { get; set; }\n",
    "}"
   ]
  },
  {
   "cell_type": "markdown",
   "id": "c7cbba5f",
   "metadata": {},
   "source": [
    "### b. Output data\n",
    "Like the Features and Label input column names, ML.NET has default names for the predicted value columns produced by a model. The names can differ depending on the task.\n",
    "Because the algorithm used in this sample is a linear regression algorithm, the default name of the output column is Score, which is defined by the ColumnName attribute on the PredictedPrice property."
   ]
  },
  {
   "cell_type": "code",
   "execution_count": 12,
   "id": "970f1f7c",
   "metadata": {
    "language_info": {
     "name": "polyglot-notebook"
    },
    "polyglot_notebook": {
     "kernelName": "csharp"
    }
   },
   "outputs": [],
   "source": [
    "class HousingPrediction\n",
    "{\n",
    "    [ColumnName(\"Score\")]\n",
    "    public float PredictedPrice { get; set; }\n",
    "}"
   ]
  },
  {
   "cell_type": "markdown",
   "id": "e5e45c49",
   "metadata": {},
   "source": [
    "## 2. Set up a prediction pipeline\n",
    "Whether making a single or batch prediction, the prediction pipeline needs to be loaded into the application. This pipeline contains both the data preprocessing transformations and the trained model. The following code snippet loads the prediction pipeline from a file named model.zip."
   ]
  },
  {
   "cell_type": "code",
   "execution_count": 13,
   "id": "61a37f90",
   "metadata": {
    "language_info": {
     "name": "polyglot-notebook"
    },
    "polyglot_notebook": {
     "kernelName": "csharp"
    }
   },
   "outputs": [],
   "source": [
    "//Create MLContext\n",
    "MLContext mlContext = new MLContext();\n",
    "\n",
    "// Load Trained Model\n",
    "DataViewSchema predictionPipelineSchema;\n",
    "ITransformer predictionPipeline = mlContext.Model.Load(\"../ExportedModels/model.zip\", out predictionPipelineSchema);"
   ]
  },
  {
   "cell_type": "markdown",
   "id": "908e06c6",
   "metadata": {},
   "source": [
    "### a. Single prediction\n",
    "To make a single prediction, create a PredictionEngine using the loaded prediction pipeline."
   ]
  },
  {
   "cell_type": "code",
   "execution_count": 14,
   "id": "e9ce66ed",
   "metadata": {
    "language_info": {
     "name": "polyglot-notebook"
    },
    "polyglot_notebook": {
     "kernelName": "csharp"
    }
   },
   "outputs": [],
   "source": [
    "// Create PredictionEngines\n",
    "PredictionEngine<HousingData, HousingPrediction> predictionEngine = mlContext.Model.CreatePredictionEngine<HousingData, HousingPrediction>(predictionPipeline);"
   ]
  },
  {
   "cell_type": "markdown",
   "id": "c4bae503",
   "metadata": {},
   "source": [
    "Then, use the Predict method and pass in your input data as a parameter. Notice that using the Predict method doesn't require the input to be an IDataView. That's because it conveniently internalizes the input data type manipulation so you can pass in an object of the input data type. Additionally, since CurrentPrice is the target or label you're trying to predict using new data, it's assumed there's no value for it at the moment."
   ]
  },
  {
   "cell_type": "code",
   "execution_count": 15,
   "id": "65df376e",
   "metadata": {
    "language_info": {
     "name": "polyglot-notebook"
    },
    "polyglot_notebook": {
     "kernelName": "csharp"
    }
   },
   "outputs": [
    {
     "name": "stdout",
     "output_type": "stream",
     "text": [
      "PredictedPrice: 206645.23\r\n"
     ]
    }
   ],
   "source": [
    "// Input Data\n",
    "HousingData inputData = new HousingData\n",
    "{\n",
    "    Size = 900f,\n",
    "    HistoricalPrices = new float[] { 155000f, 190000f, 220000f }\n",
    "};\n",
    "\n",
    "// Get Prediction\n",
    "HousingPrediction prediction = predictionEngine.Predict(inputData);\n",
    "Console.WriteLine($\"PredictedPrice: {prediction.PredictedPrice}\");"
   ]
  },
  {
   "cell_type": "markdown",
   "id": "cdd2e1e3",
   "metadata": {},
   "source": [
    "** Tip\n",
    "- PredictionEngine is not thread-safe. Additionally, you have to create an instance of it everywhere it is needed within your application. As your application grows, this process can become unmanageable. For improved performance and thread safety, use a combination of dependency injection and the PredictionEnginePool service, which creates an ObjectPool of PredictionEngine objects for use throughout your application.\n",
    "- For examples on how to use the PredictionEnginePool service, see deploy a model to a web API and deploy a model to Azure Functions.\n",
    "- For more information, see Dependency injection in ASP.NET Core."
   ]
  },
  {
   "cell_type": "markdown",
   "id": "8e5e5060",
   "metadata": {},
   "source": [
    "### b. Multiple predictions (IDataView)\n",
    "Given the following data, load it into an IDataView. In this case, the name of the IDataView is inputData. Because CurrentPrice is the target or label you're trying to predict using new data, it's assumed there's no value for it at the moment."
   ]
  },
  {
   "cell_type": "code",
   "execution_count": 16,
   "id": "3f9ffcb2",
   "metadata": {
    "language_info": {
     "name": "polyglot-notebook"
    },
    "polyglot_notebook": {
     "kernelName": "csharp"
    }
   },
   "outputs": [],
   "source": [
    "// Actual data\n",
    "HousingData[] housingData = new HousingData[]\n",
    "{\n",
    "    new HousingData\n",
    "    {\n",
    "        Size = 850f,\n",
    "        HistoricalPrices = new float[] { 150000f, 175000f, 210000f }\n",
    "    },\n",
    "    new HousingData\n",
    "    {\n",
    "        Size = 900f,\n",
    "        HistoricalPrices = new float[] { 155000f, 190000f, 220000f }\n",
    "    },\n",
    "    new HousingData\n",
    "    {\n",
    "        Size = 550f,\n",
    "        HistoricalPrices = new float[] { 99000f, 98000f, 130000f }\n",
    "    }\n",
    "};"
   ]
  },
  {
   "cell_type": "markdown",
   "id": "4c78dd17",
   "metadata": {},
   "source": [
    "Then, use the Transform method to apply the data transformations and generate predictions."
   ]
  },
  {
   "cell_type": "code",
   "execution_count": 17,
   "id": "6e59a5a8",
   "metadata": {
    "language_info": {
     "name": "polyglot-notebook"
    },
    "polyglot_notebook": {
     "kernelName": "csharp"
    }
   },
   "outputs": [],
   "source": [
    "// Convert array to IDataView\n",
    "IDataView inputDataView = mlContext.Data.LoadFromEnumerable(housingData);\n",
    "\n",
    "// Predicted Data\n",
    "IDataView predictions = predictionPipeline.Transform(inputDataView);"
   ]
  },
  {
   "cell_type": "markdown",
   "id": "8bf969a8",
   "metadata": {},
   "source": [
    "Inspect the predicted values by using the GetColumn method."
   ]
  },
  {
   "cell_type": "code",
   "execution_count": 18,
   "id": "04cfd9ae",
   "metadata": {
    "language_info": {
     "name": "polyglot-notebook"
    },
    "polyglot_notebook": {
     "kernelName": "csharp"
    }
   },
   "outputs": [
    {
     "name": "stdout",
     "output_type": "stream",
     "text": [
      "PredictedPrice: 201589.25\n",
      "PredictedPrice: 206645.23\n",
      "PredictedPrice: 167148.55\n"
     ]
    }
   ],
   "source": [
    "// Get Predictions\n",
    "float[] scoreColumn = predictions.GetColumn<float>(\"Score\").ToArray();\n",
    "\n",
    "foreach(var x in scoreColumn){\n",
    "    Console.WriteLine($\"PredictedPrice: {x}\");\n",
    "}"
   ]
  },
  {
   "cell_type": "markdown",
   "id": "5dcdb39a",
   "metadata": {},
   "source": [
    "### c. Multiple predictions (PredictionEnginePool)\n",
    "To make multiple predictions using PredictionEnginePool, you can take an IEnumerable containing multiple instances of your model input. For example, take an IEnumerable<HousingInput> and apply the Predict method to each element using the LINQ Select method.\n",
    "\n",
    "This code sample assumes you have a PredictionEnginePool called predictionEnginePool and an IEnumerable<HousingData> called housingData."
   ]
  },
  {
   "cell_type": "code",
   "execution_count": 19,
   "id": "4f15962d",
   "metadata": {
    "language_info": {
     "name": "polyglot-notebook"
    },
    "polyglot_notebook": {
     "kernelName": "csharp"
    }
   },
   "outputs": [
    {
     "ename": "Error",
     "evalue": "(2,1): error CS0103: The name 'services' does not exist in the current context",
     "output_type": "error",
     "traceback": [
      "(2,1): error CS0103: The name 'services' does not exist in the current context"
     ]
    }
   ],
   "source": [
    "// Program.cs\n",
    "services.AddPredictionEnginePool<HousingData, HousingPrediction>()\n",
    "        .FromFile(modelName: \"housingModel\", filePath: \"model.zip\", watchForChanges: true);"
   ]
  },
  {
   "cell_type": "code",
   "execution_count": 20,
   "id": "707ce56c",
   "metadata": {
    "language_info": {
     "name": "polyglot-notebook"
    },
    "polyglot_notebook": {
     "kernelName": "csharp"
    }
   },
   "outputs": [
    {
     "ename": "Error",
     "evalue": "(2,8): error CS1520: Method must have a return type",
     "output_type": "error",
     "traceback": [
      "(2,8): error CS1520: Method must have a return type"
     ]
    }
   ],
   "source": [
    "private readonly PredictionEnginePool<HousingData, HousingPrediction> _predictionEnginePool;\n",
    "public MyController(PredictionEnginePool<HousingData, HousingPrediction> pool)\n",
    "{\n",
    "    _predictionEnginePool = pool;\n",
    "}\n",
    "IEnumerable<HousingPrediction> predictions = housingData.Select(input => predictionEnginePool.Predict(input));"
   ]
  },
  {
   "cell_type": "markdown",
   "id": "2be526ba",
   "metadata": {},
   "source": [
    "### d. Prediction with ONNX"
   ]
  },
  {
   "cell_type": "code",
   "execution_count": 21,
   "metadata": {
    "language_info": {
     "name": "polyglot-notebook"
    },
    "polyglot_notebook": {
     "kernelName": "csharp"
    }
   },
   "outputs": [],
   "source": [
    "public class HousingOnnxInput\n",
    "{\n",
    "    [ColumnName(\"Size\")]\n",
    "    public float Size { get; set; }\n",
    "\n",
    "    [ColumnName(\"HistoricalPrices\")]\n",
    "    public float[] HistoricalPrices { get; set; }\n",
    "}\n",
    "\n",
    "public class HousingOnnxOutput\n",
    "{\n",
    "    [ColumnName(\"Score.output\")]\n",
    "    public float PredictedPrice { get; set; }\n",
    "}"
   ]
  },
  {
   "cell_type": "code",
   "execution_count": null,
   "metadata": {
    "language_info": {
     "name": "polyglot-notebook"
    },
    "polyglot_notebook": {
     "kernelName": "csharp"
    }
   },
   "outputs": [],
   "source": [
    "var inputColumns = new string[]\n",
    "{\n",
    "    \"Size\", \"HistoricalPrices\"\n",
    "};\n",
    "\n",
    "var outputColumns = new string[] { \"Score\" };\n",
    "\n",
    "//Create MLContext\n",
    "MLContext mlContext = new MLContext();\n",
    "var onnxPredictionPipeline =\n",
    "    mlContext\n",
    "        .Transforms\n",
    "        .ApplyOnnxModel(\n",
    "            outputColumnNames: outputColumns,\n",
    "            inputColumnNames: inputColumns,\n",
    "            \"../ExportedModels/onnx_model.onnx\");\n",
    "var emptyDv = mlContext.Data.LoadFromEnumerable(new HousingOnnxInput[] { });\n",
    "var onnxPredictionPipelineTransformer = onnxPredictionPipeline.Fit(emptyDv);\n",
    "\n",
    "//Load Trained Model\n",
    "var onnxPredictionEngine = mlContext.Model.CreatePredictionEngine<HousingOnnxInput, HousingOnnxOutput>(onnxPredictionPipelineTransformer);\n",
    "var input = new HousingOnnxInput\n",
    "{\n",
    "    Size = 1000f,\n",
    "    HistoricalPrices = new float[] { 100000f, 125000f, 122000f }\n",
    "};\n",
    "var prediction = onnxPredictionEngine.Predict(input);\n",
    "\n",
    "// Predicted Price\n",
    "Console.WriteLine($\"Predicted Price: {prediction.PredictedPrice}\");"
   ]
  }
 ],
 "metadata": {
  "kernelspec": {
   "display_name": ".NET (C#)",
   "language": "C#",
   "name": ".net-csharp"
  },
  "language_info": {
   "name": "polyglot-notebook"
  },
  "polyglot_notebook": {
   "kernelInfo": {
    "defaultKernelName": "csharp",
    "items": [
     {
      "aliases": [],
      "name": "csharp"
     }
    ]
   }
  }
 },
 "nbformat": 4,
 "nbformat_minor": 5
}
