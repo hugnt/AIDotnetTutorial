{
 "cells": [
  {
   "cell_type": "markdown",
   "id": "c433a462",
   "metadata": {},
   "source": [
    "Ref: https://github.com/microsoft/semantic-kernel/tree/main/dotnet/notebooks"
   ]
  },
  {
   "cell_type": "code",
   "execution_count": 2,
   "id": "ce0ecae0",
   "metadata": {
    "language_info": {
     "name": "polyglot-notebook"
    },
    "polyglot_notebook": {
     "kernelName": "csharp"
    }
   },
   "outputs": [
    {
     "data": {
      "text/html": [
       "<div><div></div><div></div><div><strong>Installed Packages</strong><ul><li><span>Microsoft.Extensions.Logging, 9.0.10</span></li><li><span>Microsoft.Extensions.Logging.Console, 9.0.10</span></li><li><span>Microsoft.SemanticKernel, 1.66.0</span></li></ul></div></div>"
      ]
     },
     "metadata": {},
     "output_type": "display_data"
    }
   ],
   "source": [
    "#r \"nuget: Microsoft.SemanticKernel\"\n",
    "#r \"nuget: Microsoft.Extensions.Logging\"\n",
    "#r \"nuget: Microsoft.Extensions.Logging.Console\""
   ]
  },
  {
   "cell_type": "markdown",
   "id": "d23eb94e",
   "metadata": {},
   "source": [
    "## 1) Import packages"
   ]
  },
  {
   "cell_type": "code",
   "execution_count": 11,
   "id": "f41f746c",
   "metadata": {
    "language_info": {
     "name": "polyglot-notebook"
    },
    "polyglot_notebook": {
     "kernelName": "csharp"
    }
   },
   "outputs": [],
   "source": [
    "using Microsoft.SemanticKernel;\n",
    "using Microsoft.SemanticKernel.ChatCompletion;\n",
    "using Microsoft.SemanticKernel.Connectors.OpenAI;\n",
    "\n",
    "using Microsoft.Extensions.Logging;\n",
    "using Microsoft.Extensions.DependencyInjection;"
   ]
  },
  {
   "cell_type": "markdown",
   "id": "d8a65b99",
   "metadata": {},
   "source": [
    "## 2) Add AI services\n",
    "- In this example, we used Azure OpenAI, but you can use any other chat completion service."
   ]
  },
  {
   "cell_type": "code",
   "execution_count": null,
   "id": "d9ba3cd3",
   "metadata": {
    "language_info": {
     "name": "polyglot-notebook"
    },
    "polyglot_notebook": {
     "kernelName": "csharp"
    }
   },
   "outputs": [],
   "source": [
    "// Create kernel\n",
    "var builder = Kernel.CreateBuilder();\n",
    "string modelId = \"\";\n",
    "string endpoint = \"\";\n",
    "string apiKey = \"\";\n",
    "builder.AddAzureOpenAIChatCompletion(modelId, endpoint, apiKey);"
   ]
  },
  {
   "cell_type": "markdown",
   "id": "080e91fb",
   "metadata": {},
   "source": [
    "## 3) Add enterprise services\n",
    "- One of the main benefits of using Semantic Kernel is that it supports enterprise-grade services. In this sample, we added the logging service to the kernel to help debug the AI agent."
   ]
  },
  {
   "cell_type": "code",
   "execution_count": 17,
   "id": "08e26e51",
   "metadata": {
    "language_info": {
     "name": "polyglot-notebook"
    },
    "polyglot_notebook": {
     "kernelName": "csharp"
    }
   },
   "outputs": [],
   "source": [
    "builder.Services.AddLogging(services => services.AddConsole().SetMinimumLevel(LogLevel.Trace));"
   ]
  },
  {
   "cell_type": "markdown",
   "id": "efe19c46",
   "metadata": {},
   "source": [
    "## 4) Build the kernel and retrieve services\n",
    "- Once the services have been added, we then build the kernel and retrieve the chat completion service for later use."
   ]
  },
  {
   "cell_type": "code",
   "execution_count": 18,
   "id": "081806ce",
   "metadata": {
    "language_info": {
     "name": "polyglot-notebook"
    },
    "polyglot_notebook": {
     "kernelName": "csharp"
    }
   },
   "outputs": [],
   "source": [
    "Kernel kernel = builder.Build();\n",
    "\n",
    "// Retrieve the chat completion service\n",
    "var chatCompletionService = kernel.Services.GetRequiredService<IChatCompletionService>();"
   ]
  },
  {
   "cell_type": "markdown",
   "id": "98f18490",
   "metadata": {},
   "source": [
    "## 5) Add plugins\n",
    "- With plugins, can give your AI agent the ability to run your code to retrieve information from external sources or to perform actions. In the above example, we added a plugin that allows the AI agent to interact with a light bulb. Below, we'll show you how to create this plugin."
   ]
  },
  {
   "cell_type": "markdown",
   "id": "bb51aeb0",
   "metadata": {},
   "source": [
    "### a) Create a native plugin\n",
    "Below, you can see that creating a native plugin is as simple as creating a new class.\n",
    "\n",
    "- In this example, we've created a plugin that can manipulate a light bulb. While this is a simple example, this plugin quickly demonstrates how you can support both...\n",
    "1. Retrieval Augmented Generation (RAG) by providing the AI agent with the state of the light bulb\n",
    "2. And task automation by allowing the AI agent to turn the light bulb on or off.\n",
    "- In your own code, you can create a plugin that interacts with any external service or API to achieve similar results."
   ]
  },
  {
   "cell_type": "code",
   "execution_count": 19,
   "id": "d1bfa07c",
   "metadata": {
    "language_info": {
     "name": "polyglot-notebook"
    },
    "polyglot_notebook": {
     "kernelName": "csharp"
    }
   },
   "outputs": [],
   "source": [
    "using System.ComponentModel;\n",
    "using System.Text.Json.Serialization;\n",
    "using Microsoft.SemanticKernel;\n",
    "\n",
    "public class LightsPlugin\n",
    "{\n",
    "   // Mock data for the lights\n",
    "   private readonly List<LightModel> lights = new()\n",
    "   {\n",
    "      new LightModel { Id = 1, Name = \"Table Lamp\", IsOn = false },\n",
    "      new LightModel { Id = 2, Name = \"Porch light\", IsOn = false },\n",
    "      new LightModel { Id = 3, Name = \"Chandelier\", IsOn = true }\n",
    "   };\n",
    "\n",
    "   [KernelFunction(\"get_lights\")]\n",
    "   [Description(\"Gets a list of lights and their current state\")]\n",
    "   public async Task<List<LightModel>> GetLightsAsync()\n",
    "   {\n",
    "      return lights;\n",
    "   }\n",
    "\n",
    "   [KernelFunction(\"change_state\")]\n",
    "   [Description(\"Changes the state of the light\")]\n",
    "   public async Task<LightModel?> ChangeStateAsync(int id, bool isOn)\n",
    "   {\n",
    "      var light = lights.FirstOrDefault(light => light.Id == id);\n",
    "\n",
    "      if (light == null)\n",
    "      {\n",
    "         return null;\n",
    "      }\n",
    "\n",
    "      // Update the light with the new state\n",
    "      light.IsOn = isOn;\n",
    "\n",
    "      return light;\n",
    "   }\n",
    "}\n",
    "\n",
    "public class LightModel\n",
    "{\n",
    "   [JsonPropertyName(\"id\")]\n",
    "   public int Id { get; set; }\n",
    "\n",
    "   [JsonPropertyName(\"name\")]\n",
    "   public string Name { get; set; }\n",
    "\n",
    "   [JsonPropertyName(\"is_on\")]\n",
    "   public bool? IsOn { get; set; }\n",
    "}"
   ]
  },
  {
   "cell_type": "markdown",
   "id": "c873574f",
   "metadata": {},
   "source": [
    "### b) Add the plugin to the kernel"
   ]
  },
  {
   "cell_type": "code",
   "execution_count": 20,
   "id": "bd4a2ff7",
   "metadata": {
    "language_info": {
     "name": "polyglot-notebook"
    },
    "polyglot_notebook": {
     "kernelName": "csharp"
    }
   },
   "outputs": [],
   "source": [
    "// Add the plugin to the kernel\n",
    "kernel.Plugins.AddFromType<LightsPlugin>(\"Lights\");"
   ]
  },
  {
   "cell_type": "markdown",
   "id": "d8d1c353",
   "metadata": {},
   "source": [
    "## 6) Planning\n",
    "\n",
    "Semantic Kernel leverages function calling–a native feature of most LLMs–to provide planning. With function calling, LLMs can request (or call) a particular function to satisfy a user's request. Semantic Kernel then marshals the request to the appropriate function in your codebase and returns the results back to the LLM so the AI agent can generate a final response.\n",
    "\n",
    "To enable automatic function calling, we first need to create the appropriate execution settings so that Semantic Kernel knows to automatically invoke the functions in the kernel when the AI agent requests them."
   ]
  },
  {
   "cell_type": "code",
   "execution_count": 21,
   "id": "03a54f98",
   "metadata": {
    "language_info": {
     "name": "polyglot-notebook"
    },
    "polyglot_notebook": {
     "kernelName": "csharp"
    }
   },
   "outputs": [],
   "source": [
    "OpenAIPromptExecutionSettings openAIPromptExecutionSettings = new()\n",
    "{\n",
    "    FunctionChoiceBehavior = FunctionChoiceBehavior.Auto()\n",
    "};"
   ]
  },
  {
   "cell_type": "markdown",
   "id": "f8a06263",
   "metadata": {},
   "source": [
    "## 10) Invoke\n",
    "\n",
    "Finally, we invoke the AI agent with the plugin. The sample code demonstrates how to generate a non-streaming response, but you can also generate a streaming response by using the GetStreamingChatMessageContentAsync method."
   ]
  },
  {
   "cell_type": "code",
   "execution_count": 30,
   "id": "31ffe212",
   "metadata": {
    "language_info": {
     "name": "polyglot-notebook"
    },
    "polyglot_notebook": {
     "kernelName": "csharp"
    }
   },
   "outputs": [],
   "source": [
    "// Create chat history\n",
    "var history = new ChatHistory();\n",
    "\n",
    "var userInput = \"Turn on the porch light and turn off the chandelier.\";\n",
    "\n",
    "// Add user input\n",
    "history.AddUserMessage(userInput);\n",
    "\n",
    "// Get the response from the AI\n",
    "var result = await chatCompletionService.GetChatMessageContentAsync(\n",
    "    history,\n",
    "    executionSettings: openAIPromptExecutionSettings,\n",
    "    kernel: kernel\n",
    ");"
   ]
  },
  {
   "cell_type": "code",
   "execution_count": 31,
   "id": "fba247ca",
   "metadata": {
    "language_info": {
     "name": "polyglot-notebook"
    },
    "polyglot_notebook": {
     "kernelName": "csharp"
    }
   },
   "outputs": [
    {
     "data": {
      "text/html": [
       "<details open=\"open\" class=\"dni-treeview\"><summary><span class=\"dni-code-hint\"><code>{\\n  &quot;type&quot;: &quot;function&quot;,\\n  &quot;function&quot;: [\\n    {&quot;name&quot;: &quot;Lights-change_state&quot;, &quot;arguments&quot;: {&quot;id&quot;: 1, &quot;isOn&quot;: true}},\\n    {&quot;name&quot;: &quot;Lights-change_state&quot;, &quot;arguments&quot;: {&quot;id&quot;: 2, &quot;isOn&quot;: false}}\\n  ]\\n}</code></span></summary><div><table><thead><tr></tr></thead><tbody><tr><td>ToolCalls</td><td><i>(empty)</i></td></tr><tr><td>AuthorName</td><td><div class=\"dni-plaintext\"><pre>&lt;null&gt;</pre></div></td></tr><tr><td>Role</td><td><details class=\"dni-treeview\"><summary><span class=\"dni-code-hint\"><code>Assistant</code></span></summary><div><table><thead><tr></tr></thead><tbody><tr><td>Label</td><td><div class=\"dni-plaintext\"><pre>Assistant</pre></div></td></tr></tbody></table></div></details></td></tr><tr><td>Content</td><td><div class=\"dni-plaintext\"><pre>{\n",
       "  &quot;type&quot;: &quot;function&quot;,\n",
       "  &quot;function&quot;: [\n",
       "    {&quot;name&quot;: &quot;Lights-change_state&quot;, &quot;arguments&quot;: {&quot;id&quot;: 1, &quot;isOn&quot;: true}},\n",
       "    {&quot;name&quot;: &quot;Lights-change_state&quot;, &quot;arguments&quot;: {&quot;id&quot;: 2, &quot;isOn&quot;: false}}\n",
       "  ]\n",
       "}</pre></div></td></tr><tr><td>Items</td><td><details class=\"dni-treeview\"><summary><span class=\"dni-code-hint\"><code>[ {\n",
       "  &quot;type&quot;: &quot;function&quot;,\n",
       "  &quot;function&quot;: [\n",
       "    {&quot;name&quot;: &quot;Lights-change_state&quot;, &quot;arguments&quot;: {&quot;id&quot;: 1, &quot;isOn&quot;: true}},\n",
       "    {&quot;name&quot;: &quot;Lights-change_state&quot;, &quot;arguments&quot;: {&quot;id&quot;: 2, &quot;isOn&quot;: false}}\n",
       "  ]\n",
       "} ]</code></span></summary><div><table><thead><tr></tr></thead><tbody><tr><td>Count</td><td><div class=\"dni-plaintext\"><pre>1</pre></div></td></tr><tr><td><i>(values)</i></td><td><table><thead><tr><th><i>index</i></th><th>value</th></tr></thead><tbody><tr><td>0</td><td><details class=\"dni-treeview\"><summary><span class=\"dni-code-hint\"><code>{\\n  &quot;type&quot;: &quot;function&quot;,\\n  &quot;function&quot;: [\\n    {&quot;name&quot;: &quot;Lights-change_state&quot;, &quot;arguments&quot;: {&quot;id&quot;: 1, &quot;isOn&quot;: true}},\\n    {&quot;name&quot;: &quot;Lights-change_state&quot;, &quot;arguments&quot;: {&quot;id&quot;: 2, &quot;isOn&quot;: false}}\\n  ]\\n}</code></span></summary><div><table><thead><tr></tr></thead><tbody><tr><td>Text</td><td><div class=\"dni-plaintext\"><pre>{\n",
       "  &quot;type&quot;: &quot;function&quot;,\n",
       "  &quot;function&quot;: [\n",
       "    {&quot;name&quot;: &quot;Lights-change_state&quot;, &quot;arguments&quot;: {&quot;id&quot;: 1, &quot;isOn&quot;: true}},\n",
       "    {&quot;name&quot;: &quot;Lights-change_state&quot;, &quot;arguments&quot;: {&quot;id&quot;: 2, &quot;isOn&quot;: false}}\n",
       "  ]\n",
       "}</pre></div></td></tr><tr><td>Encoding</td><td><details class=\"dni-treeview\"><summary><span class=\"dni-code-hint\"><code>System.Text.UTF8Encoding+UTF8EncodingSealed</code></span></summary><div><table><thead><tr></tr></thead><tbody><tr><td>Preamble</td><td><div class=\"dni-plaintext\"><pre>System.Text.UTF8Encoding+UTF8EncodingSealed</pre></div></td></tr><tr><td>BodyName</td><td><div class=\"dni-plaintext\"><pre>utf-8</pre></div></td></tr><tr><td>EncodingName</td><td><div class=\"dni-plaintext\"><pre>Unicode (UTF-8)</pre></div></td></tr><tr><td>HeaderName</td><td><div class=\"dni-plaintext\"><pre>utf-8</pre></div></td></tr><tr><td>WebName</td><td><div class=\"dni-plaintext\"><pre>utf-8</pre></div></td></tr><tr><td>WindowsCodePage</td><td><div class=\"dni-plaintext\"><pre>1200</pre></div></td></tr><tr><td>IsBrowserDisplay</td><td><div class=\"dni-plaintext\"><pre>True</pre></div></td></tr><tr><td>IsBrowserSave</td><td><div class=\"dni-plaintext\"><pre>True</pre></div></td></tr><tr><td>IsMailNewsDisplay</td><td><div class=\"dni-plaintext\"><pre>True</pre></div></td></tr><tr><td>IsMailNewsSave</td><td><div class=\"dni-plaintext\"><pre>True</pre></div></td></tr><tr><td>IsSingleByte</td><td><div class=\"dni-plaintext\"><pre>False</pre></div></td></tr><tr><td>EncoderFallback</td><td><details class=\"dni-treeview\"><summary><span class=\"dni-code-hint\"><code>System.Text.EncoderReplacementFallback</code></span></summary><div><table><thead><tr></tr></thead><tbody><tr><td>DefaultString</td><td><div class=\"dni-plaintext\"><pre>�</pre></div></td></tr><tr><td>MaxCharCount</td><td><div class=\"dni-plaintext\"><pre>1</pre></div></td></tr></tbody></table></div></details></td></tr><tr><td>DecoderFallback</td><td><details class=\"dni-treeview\"><summary><span class=\"dni-code-hint\"><code>System.Text.DecoderReplacementFallback</code></span></summary><div><table><thead><tr></tr></thead><tbody><tr><td>DefaultString</td><td><div class=\"dni-plaintext\"><pre>�</pre></div></td></tr><tr><td>MaxCharCount</td><td><div class=\"dni-plaintext\"><pre>1</pre></div></td></tr></tbody></table></div></details></td></tr><tr><td>IsReadOnly</td><td><div class=\"dni-plaintext\"><pre>True</pre></div></td></tr><tr><td>CodePage</td><td><div class=\"dni-plaintext\"><pre>65001</pre></div></td></tr></tbody></table></div></details></td></tr><tr><td>MimeType</td><td><div class=\"dni-plaintext\"><pre>&lt;null&gt;</pre></div></td></tr><tr><td>InnerContent</td><td><div class=\"dni-plaintext\"><pre>&lt;null&gt;</pre></div></td></tr><tr><td>ModelId</td><td><div class=\"dni-plaintext\"><pre>&lt;null&gt;</pre></div></td></tr><tr><td>Metadata</td><td><div class=\"dni-plaintext\"><pre>&lt;null&gt;</pre></div></td></tr></tbody></table></div></details></td></tr></tbody></table></td></tr></tbody></table></div></details></td></tr><tr><td>Encoding</td><td><details class=\"dni-treeview\"><summary><span class=\"dni-code-hint\"><code>System.Text.UTF8Encoding+UTF8EncodingSealed</code></span></summary><div><table><thead><tr></tr></thead><tbody><tr><td>Preamble</td><td><div class=\"dni-plaintext\"><pre>System.Text.UTF8Encoding+UTF8EncodingSealed</pre></div></td></tr><tr><td>BodyName</td><td><div class=\"dni-plaintext\"><pre>utf-8</pre></div></td></tr><tr><td>EncodingName</td><td><div class=\"dni-plaintext\"><pre>Unicode (UTF-8)</pre></div></td></tr><tr><td>HeaderName</td><td><div class=\"dni-plaintext\"><pre>utf-8</pre></div></td></tr><tr><td>WebName</td><td><div class=\"dni-plaintext\"><pre>utf-8</pre></div></td></tr><tr><td>WindowsCodePage</td><td><div class=\"dni-plaintext\"><pre>1200</pre></div></td></tr><tr><td>IsBrowserDisplay</td><td><div class=\"dni-plaintext\"><pre>True</pre></div></td></tr><tr><td>IsBrowserSave</td><td><div class=\"dni-plaintext\"><pre>True</pre></div></td></tr><tr><td>IsMailNewsDisplay</td><td><div class=\"dni-plaintext\"><pre>True</pre></div></td></tr><tr><td>IsMailNewsSave</td><td><div class=\"dni-plaintext\"><pre>True</pre></div></td></tr><tr><td>IsSingleByte</td><td><div class=\"dni-plaintext\"><pre>False</pre></div></td></tr><tr><td>EncoderFallback</td><td><details class=\"dni-treeview\"><summary><span class=\"dni-code-hint\"><code>System.Text.EncoderReplacementFallback</code></span></summary><div><table><thead><tr></tr></thead><tbody><tr><td>DefaultString</td><td><div class=\"dni-plaintext\"><pre>�</pre></div></td></tr><tr><td>MaxCharCount</td><td><div class=\"dni-plaintext\"><pre>1</pre></div></td></tr></tbody></table></div></details></td></tr><tr><td>DecoderFallback</td><td><details class=\"dni-treeview\"><summary><span class=\"dni-code-hint\"><code>System.Text.DecoderReplacementFallback</code></span></summary><div><table><thead><tr></tr></thead><tbody><tr><td>DefaultString</td><td><div class=\"dni-plaintext\"><pre>�</pre></div></td></tr><tr><td>MaxCharCount</td><td><div class=\"dni-plaintext\"><pre>1</pre></div></td></tr></tbody></table></div></details></td></tr><tr><td>IsReadOnly</td><td><div class=\"dni-plaintext\"><pre>True</pre></div></td></tr><tr><td>CodePage</td><td><div class=\"dni-plaintext\"><pre>65001</pre></div></td></tr></tbody></table></div></details></td></tr><tr><td>Source</td><td><div class=\"dni-plaintext\"><pre>&lt;null&gt;</pre></div></td></tr><tr><td>MimeType</td><td><div class=\"dni-plaintext\"><pre>&lt;null&gt;</pre></div></td></tr><tr><td>InnerContent</td><td><details class=\"dni-treeview\"><summary><span class=\"dni-code-hint\"><code>OpenAI.Chat.ChatCompletion</code></span></summary><div><table><thead><tr></tr></thead><tbody><tr><td>CreatedAt</td><td><span>2025-10-21 09:52:37Z</span></td></tr><tr><td>FinishReason</td><td><span>Stop</span></td></tr><tr><td>ContentTokenLogProbabilities</td><td><details class=\"dni-treeview\"><summary><span class=\"dni-code-hint\"><code>[  ]</code></span></summary><div><table><thead><tr></tr></thead><tbody><tr><td>IsUndefined</td><td><div class=\"dni-plaintext\"><pre>True</pre></div></td></tr><tr><td>Count</td><td><div class=\"dni-plaintext\"><pre>0</pre></div></td></tr><tr><td>IsReadOnly</td><td><div class=\"dni-plaintext\"><pre>False</pre></div></td></tr><tr><td><i>(values)</i></td><td><i>(empty)</i></td></tr></tbody></table></div></details></td></tr><tr><td>RefusalTokenLogProbabilities</td><td><details class=\"dni-treeview\"><summary><span class=\"dni-code-hint\"><code>[  ]</code></span></summary><div><table><thead><tr></tr></thead><tbody><tr><td>IsUndefined</td><td><div class=\"dni-plaintext\"><pre>True</pre></div></td></tr><tr><td>Count</td><td><div class=\"dni-plaintext\"><pre>0</pre></div></td></tr><tr><td>IsReadOnly</td><td><div class=\"dni-plaintext\"><pre>False</pre></div></td></tr><tr><td><i>(values)</i></td><td><i>(empty)</i></td></tr></tbody></table></div></details></td></tr><tr><td>Role</td><td><span>Assistant</span></td></tr><tr><td>Content</td><td><table><thead><tr><th><i>index</i></th><th>value</th></tr></thead><tbody><tr><td>0</td><td><details class=\"dni-treeview\"><summary><span class=\"dni-code-hint\"><code>OpenAI.Chat.ChatMessageContentPart</code></span></summary><div><table><thead><tr></tr></thead><tbody><tr><td>Kind</td><td><span>Text</span></td></tr><tr><td>Text</td><td><div class=\"dni-plaintext\"><pre>{\n",
       "  &quot;type&quot;: &quot;function&quot;,\n",
       "  &quot;function&quot;: [\n",
       "    {&quot;name&quot;: &quot;Lights-change_state&quot;, &quot;arguments&quot;: {&quot;id&quot;: 1, &quot;isOn&quot;: true}},\n",
       "    {&quot;name&quot;: &quot;Lights-change_state&quot;, &quot;arguments&quot;: {&quot;id&quot;: 2, &quot;isOn&quot;: false}}\n",
       "  ]\n",
       "}</pre></div></td></tr><tr><td>ImageUri</td><td><div class=\"dni-plaintext\"><pre>&lt;null&gt;</pre></div></td></tr><tr><td>ImageBytes</td><td><div class=\"dni-plaintext\"><pre>&lt;null&gt;</pre></div></td></tr><tr><td>ImageBytesMediaType</td><td><div class=\"dni-plaintext\"><pre>&lt;null&gt;</pre></div></td></tr><tr><td>InputAudioBytes</td><td><div class=\"dni-plaintext\"><pre>&lt;null&gt;</pre></div></td></tr><tr><td>InputAudioFormat</td><td><div class=\"dni-plaintext\"><pre>&lt;null&gt;</pre></div></td></tr><tr><td>FileId</td><td><div class=\"dni-plaintext\"><pre>&lt;null&gt;</pre></div></td></tr><tr><td>FileBytes</td><td><div class=\"dni-plaintext\"><pre>&lt;null&gt;</pre></div></td></tr><tr><td>FileBytesMediaType</td><td><div class=\"dni-plaintext\"><pre>&lt;null&gt;</pre></div></td></tr><tr><td>Filename</td><td><div class=\"dni-plaintext\"><pre>&lt;null&gt;</pre></div></td></tr><tr><td>ImageDetailLevel</td><td><div class=\"dni-plaintext\"><pre>&lt;null&gt;</pre></div></td></tr><tr><td>Refusal</td><td><div class=\"dni-plaintext\"><pre>&lt;null&gt;</pre></div></td></tr></tbody></table></div></details></td></tr></tbody></table></td></tr><tr><td>ToolCalls</td><td><i>(empty)</i></td></tr><tr><td>Refusal</td><td><div class=\"dni-plaintext\"><pre>&lt;null&gt;</pre></div></td></tr><tr><td>FunctionCall</td><td><div class=\"dni-plaintext\"><pre>&lt;null&gt;</pre></div></td></tr><tr><td>OutputAudio</td><td><div class=\"dni-plaintext\"><pre>&lt;null&gt;</pre></div></td></tr><tr><td>Annotations</td><td><i>(empty)</i></td></tr><tr><td>Id</td><td><div class=\"dni-plaintext\"><pre>chatcmpl-4f276713-9442-4ca6-969b-aad75c57e710</pre></div></td></tr><tr><td>Model</td><td><div class=\"dni-plaintext\"><pre>phi4-mini-instruct</pre></div></td></tr><tr><td>ServiceTier</td><td><div class=\"dni-plaintext\"><pre>&lt;null&gt;</pre></div></td></tr><tr><td>SystemFingerprint</td><td><div class=\"dni-plaintext\"><pre>&lt;null&gt;</pre></div></td></tr><tr><td>Usage</td><td><details class=\"dni-treeview\"><summary><span class=\"dni-code-hint\"><code>OpenAI.Chat.ChatTokenUsage</code></span></summary><div><table><thead><tr></tr></thead><tbody><tr><td>OutputTokenCount</td><td><div class=\"dni-plaintext\"><pre>65</pre></div></td></tr><tr><td>InputTokenCount</td><td><div class=\"dni-plaintext\"><pre>499</pre></div></td></tr><tr><td>TotalTokenCount</td><td><div class=\"dni-plaintext\"><pre>564</pre></div></td></tr><tr><td>OutputTokenDetails</td><td><div class=\"dni-plaintext\"><pre>&lt;null&gt;</pre></div></td></tr><tr><td>InputTokenDetails</td><td><div class=\"dni-plaintext\"><pre>&lt;null&gt;</pre></div></td></tr></tbody></table></div></details></td></tr></tbody></table></div></details></td></tr><tr><td>ModelId</td><td><div class=\"dni-plaintext\"><pre>Phi-4-mini-instruct</pre></div></td></tr><tr><td>Metadata</td><td><table><thead><tr><th><i>key</i></th><th><i>type</i></th><th>value</th></tr></thead><tbody><tr><td><div class=\"dni-plaintext\"><pre>Id</pre></div></td><td><span><a href=\"https://docs.microsoft.com/dotnet/api/system.string?view=net-7.0\">System.String</a></span></td><td><div class=\"dni-plaintext\"><pre>chatcmpl-4f276713-9442-4ca6-969b-aad75c57e710</pre></div></td></tr><tr><td><div class=\"dni-plaintext\"><pre>CreatedAt</pre></div></td><td><span><a href=\"https://docs.microsoft.com/dotnet/api/system.datetimeoffset?view=net-7.0\">System.DateTimeOffset</a></span></td><td><span>2025-10-21 09:52:37Z</span></td></tr><tr><td><div class=\"dni-plaintext\"><pre>SystemFingerprint</pre></div></td><td><div class=\"dni-plaintext\"><pre>&lt;null&gt;</pre></div></td><td><div class=\"dni-plaintext\"><pre>&lt;null&gt;</pre></div></td></tr><tr><td><div class=\"dni-plaintext\"><pre>Usage</pre></div></td><td>OpenAI.Chat.ChatTokenUsage</td><td><details class=\"dni-treeview\"><summary><span class=\"dni-code-hint\"><code>OpenAI.Chat.ChatTokenUsage</code></span></summary><div><table><thead><tr></tr></thead><tbody><tr><td>OutputTokenCount</td><td><div class=\"dni-plaintext\"><pre>65</pre></div></td></tr><tr><td>InputTokenCount</td><td><div class=\"dni-plaintext\"><pre>499</pre></div></td></tr><tr><td>TotalTokenCount</td><td><div class=\"dni-plaintext\"><pre>564</pre></div></td></tr><tr><td>OutputTokenDetails</td><td><div class=\"dni-plaintext\"><pre>&lt;null&gt;</pre></div></td></tr><tr><td>InputTokenDetails</td><td><div class=\"dni-plaintext\"><pre>&lt;null&gt;</pre></div></td></tr></tbody></table></div></details></td></tr><tr><td><div class=\"dni-plaintext\"><pre>Refusal</pre></div></td><td><div class=\"dni-plaintext\"><pre>&lt;null&gt;</pre></div></td><td><div class=\"dni-plaintext\"><pre>&lt;null&gt;</pre></div></td></tr><tr><td><div class=\"dni-plaintext\"><pre>FinishReason</pre></div></td><td><span><a href=\"https://docs.microsoft.com/dotnet/api/system.string?view=net-7.0\">System.String</a></span></td><td><div class=\"dni-plaintext\"><pre>Stop</pre></div></td></tr><tr><td><div class=\"dni-plaintext\"><pre>ContentTokenLogProbabilities</pre></div></td><td>OpenAI.ChangeTrackingList&lt;OpenAI.Chat.ChatTokenLogProbabilityDetails&gt;</td><td></td></tr></tbody></table></td></tr></tbody></table></div></details><style>\r\n",
       ".dni-code-hint {\r\n",
       "    font-style: italic;\r\n",
       "    overflow: hidden;\r\n",
       "    white-space: nowrap;\r\n",
       "}\r\n",
       ".dni-treeview {\r\n",
       "    white-space: nowrap;\r\n",
       "}\r\n",
       ".dni-treeview td {\r\n",
       "    vertical-align: top;\r\n",
       "    text-align: start;\r\n",
       "}\r\n",
       "details.dni-treeview {\r\n",
       "    padding-left: 1em;\r\n",
       "}\r\n",
       "table td {\r\n",
       "    text-align: start;\r\n",
       "}\r\n",
       "table tr { \r\n",
       "    vertical-align: top; \r\n",
       "    margin: 0em 0px;\r\n",
       "}\r\n",
       "table tr td pre \r\n",
       "{ \r\n",
       "    vertical-align: top !important; \r\n",
       "    margin: 0em 0px !important;\r\n",
       "} \r\n",
       "table th {\r\n",
       "    text-align: start;\r\n",
       "}\r\n",
       "</style>"
      ]
     },
     "metadata": {},
     "output_type": "display_data"
    }
   ],
   "source": [
    "result"
   ]
  }
 ],
 "metadata": {
  "kernelspec": {
   "display_name": ".NET (C#)",
   "language": "C#",
   "name": ".net-csharp"
  },
  "language_info": {
   "name": "polyglot-notebook"
  },
  "polyglot_notebook": {
   "kernelInfo": {
    "defaultKernelName": "csharp",
    "items": [
     {
      "aliases": [],
      "name": "csharp"
     }
    ]
   }
  }
 },
 "nbformat": 4,
 "nbformat_minor": 5
}
