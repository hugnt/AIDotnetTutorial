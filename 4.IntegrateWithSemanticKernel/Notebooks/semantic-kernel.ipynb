{
 "cells": [
  {
   "cell_type": "markdown",
   "id": "8313d162",
   "metadata": {},
   "source": [
    "1. Ref: https://learn.microsoft.com/en-us/dotnet/ai/semantic-kernel-dotnet-overview\n",
    "2. Ref 2: https://learn.microsoft.com/en-us/semantic-kernel/overview/\n",
    "3. Ref 3: https://github.com/microsoft/semantic-kernel/blob/main/dotnet/samples/Concepts/Functions/PromptFunctions_Inline.cs"
   ]
  },
  {
   "cell_type": "markdown",
   "id": "d6fd6fe0",
   "metadata": {},
   "source": [
    "## Understand Semantic Kernel\n",
    "Semantic Kernel is an open-source SDK that integrates and orchestrates AI models and services like OpenAI, Azure OpenAI, and Hugging Face with conventional programming languages like C#, Python, and Java.\n",
    "The Semantic Kernel SDK benefits enterprise developers in the following ways:\n",
    "- Streamlines integration of AI capabilities into existing applications to enable a cohesive solution for enterprise products.\n",
    "- Minimizes the learning curve of working with different AI models or services by providing abstractions that reduce complexity.\n",
    "- Improves reliability by reducing the unpredictable behavior of prompts and responses from AI models. You can fine-tune prompts and plan tasks to create a controlled and predictable user experience.\n",
    "\n",
    "Semantic Kernel is built around several core concepts:\n",
    "- Connections: Interface with external AI services and data sources.\n",
    "- Plugins: Encapsulate functions that applications can use.\n",
    "- Planner: Orchestrates execution plans and strategies based on user behavior.\n",
    "- Memory: Abstracts and simplifies context management for AI apps.\n",
    "These building blocks are explored in more detail in the following sections."
   ]
  },
  {
   "cell_type": "markdown",
   "id": "9dcc54e6",
   "metadata": {
    "language_info": {
     "name": "polyglot-notebook"
    },
    "polyglot_notebook": {
     "kernelName": "csharp"
    }
   },
   "source": [
    "## 1. Add Semantic Kernel to a .NET project\n",
    "### a. Import package"
   ]
  },
  {
   "cell_type": "code",
   "execution_count": 2,
   "id": "9dcc54e6",
   "metadata": {
    "language_info": {
     "name": "polyglot-notebook"
    },
    "polyglot_notebook": {
     "kernelName": "csharp"
    }
   },
   "outputs": [
    {
     "data": {
      "text/html": [
       "<div><div></div><div></div><div><strong>Installed Packages</strong><ul><li><span>Microsoft.SemanticKernel, 1.66.0</span></li></ul></div></div>"
      ]
     },
     "metadata": {},
     "output_type": "display_data"
    }
   ],
   "source": [
    "#r \"nuget: Microsoft.SemanticKernel\""
   ]
  },
  {
   "cell_type": "code",
   "execution_count": 8,
   "id": "30971d92",
   "metadata": {
    "language_info": {
     "name": "polyglot-notebook"
    },
    "polyglot_notebook": {
     "kernelName": "csharp"
    }
   },
   "outputs": [],
   "source": [
    "using Microsoft.SemanticKernel;"
   ]
  },
  {
   "cell_type": "markdown",
   "id": "4472b903",
   "metadata": {},
   "source": [
    "### b. Implement in code\n",
    "Create and configure a Kernel instance using the KernelBuilder class to access and work with Semantic Kernel. The Kernel holds services, data, and connections to orchestrate integrations between your code and AI models.\n",
    "1. In console app"
   ]
  },
  {
   "cell_type": "code",
   "execution_count": 6,
   "id": "12e46c6f",
   "metadata": {
    "language_info": {
     "name": "polyglot-notebook"
    },
    "polyglot_notebook": {
     "kernelName": "csharp"
    }
   },
   "outputs": [],
   "source": [
    "var builder = Kernel.CreateBuilder();\n",
    "// Add builder configuration and services\n",
    "\n",
    "var kernel = builder.Build();"
   ]
  },
  {
   "cell_type": "markdown",
   "id": "561b97d7",
   "metadata": {},
   "source": [
    "2. Configure the Kernel in an ASP.NET Core app"
   ]
  },
  {
   "cell_type": "code",
   "execution_count": null,
   "id": "6cac6c57",
   "metadata": {
    "language_info": {
     "name": "polyglot-notebook"
    },
    "polyglot_notebook": {
     "kernelName": "csharp"
    }
   },
   "outputs": [],
   "source": [
    "var builder = WebApplication.CreateBuilder();\n",
    "builder.Services.AddKernel();\n",
    "\n",
    "// Add builder configuration and services\n",
    "\n",
    "var app = builder.Build();"
   ]
  },
  {
   "cell_type": "markdown",
   "id": "72bef826",
   "metadata": {},
   "source": [
    "## 2. Using "
   ]
  },
  {
   "cell_type": "markdown",
   "id": "d36ca6f1",
   "metadata": {},
   "source": [
    "### a. Connections\n",
    "The Semantic Kernel SDK includes a set of connectors that enable developers to integrate LLMs and other services into their existing applications. These connectors serve as the bridge between the application code and the AI models or services. Semantic Kernel handles many common connection concerns and challenges for you so you can focus on building your own workflows and features.\n",
    "\n",
    "The following code snippet creates a Kernel and adds a connection to an Azure OpenAI model:"
   ]
  },
  {
   "cell_type": "code",
   "execution_count": null,
   "id": "b738b32e",
   "metadata": {
    "language_info": {
     "name": "polyglot-notebook"
    },
    "polyglot_notebook": {
     "kernelName": "csharp"
    }
   },
   "outputs": [],
   "source": [
    "// Create kernel\n",
    "var builder = Kernel.CreateBuilder();\n",
    "\n",
    "// Add a chat completion service:\n",
    "builder.Services.AddAzureOpenAIChatCompletion(\n",
    "    \"your-resource-name\",\n",
    "    \"your-endpoint\",\n",
    "    \"your-resource-key\",\n",
    "    \"deployment-model\");\n",
    "var kernel = builder.Build();"
   ]
  },
  {
   "cell_type": "markdown",
   "id": "b5afa003",
   "metadata": {},
   "source": [
    "### b. Plugins\n",
    "Semantic Kernel plugins encapsulate standard language functions for applications and AI models to consume. You can create your own plugins or rely on plugins provided by the SDK. These plugins streamline tasks where AI models are advantageous and efficiently combine them with more traditional C# methods. Plugin functions are generally categorized into two types: semantic functions and native functions."
   ]
  },
  {
   "cell_type": "markdown",
   "id": "2beba346",
   "metadata": {},
   "source": [
    "### c. Semantic functions\n",
    "Semantic functions are essentially AI prompts defined in your code that Semantic Kernel can customize and call as needed. You can templatize these prompts to use variables, custom prompt and completion formatting, and more."
   ]
  },
  {
   "cell_type": "code",
   "execution_count": null,
   "id": "25ebce81",
   "metadata": {
    "language_info": {
     "name": "polyglot-notebook"
    },
    "polyglot_notebook": {
     "kernelName": "csharp"
    }
   },
   "outputs": [],
   "source": [
    "var userInput = Console.ReadLine();\n",
    "\n",
    "// Define semantic function inline.\n",
    "string skPrompt = @\"Summarize the provided unstructured text in a sentence that is easy to understand.\n",
    "                    Text to summarize: {{$userInput}}\";\n",
    "\n",
    "// Register the function\n",
    "// kernel.CreateSemanticFunction(\n",
    "//     promptTemplate: skPrompt,\n",
    "//     functionName: \"SummarizeText\",\n",
    "//     pluginName: \"SemanticFunctions\"\n",
    "// );\n",
    "\n",
    "kernel.CreateFunctionFromPrompt(\n",
    "    promptTemplate: skPrompt,\n",
    "    functionName: \"SummarizeText\");"
   ]
  },
  {
   "cell_type": "markdown",
   "id": "07cc5820",
   "metadata": {},
   "source": [
    "### d. Native functions\n",
    "Native functions are C# methods that Semantic Kernel can call directly to manipulate or retrieve data. They perform operations that are better suited for traditional code instructions instead of LLM prompts."
   ]
  },
  {
   "cell_type": "code",
   "execution_count": 12,
   "id": "a3332ada",
   "metadata": {
    "language_info": {
     "name": "polyglot-notebook"
    },
    "polyglot_notebook": {
     "kernelName": "csharp"
    }
   },
   "outputs": [],
   "source": [
    "using System.IO;\n",
    "using System.ComponentModel;\n",
    "\n",
    "// Define native function\n",
    "public class NativeFunctions {\n",
    "\n",
    "    [KernelFunction, Description(\"Retrieve content from local file\")]\n",
    "    public async Task<string> RetrieveLocalFile(string fileName, int maxSize = 5000)\n",
    "    {\n",
    "        string content = await File.ReadAllTextAsync(fileName);\n",
    "        if (content.Length <= maxSize) return content;\n",
    "        return content.Substring(0, maxSize);\n",
    "    }\n",
    "}\n",
    "\n",
    "//Import native function\n",
    "string plugInName = \"NativeFunction\";\n",
    "string functionName = \"RetrieveLocalFile\";\n",
    "\n",
    "var nativeFunctions = new NativeFunctions();\n",
    "kernel.ImportPluginFromObject(nativeFunctions, plugInName);"
   ]
  },
  {
   "cell_type": "markdown",
   "id": "ce316990",
   "metadata": {},
   "source": [
    "### e. Planner\n",
    "The planner is a core component of Semantic Kernel that provides AI orchestration to manage seamless integration between AI models and plugins. This layer devises execution strategies from user requests and dynamically orchestrates Plugins to perform complex tasks with AI-assisted planning."
   ]
  },
  {
   "cell_type": "code",
   "execution_count": null,
   "id": "1a0f7300",
   "metadata": {
    "language_info": {
     "name": "polyglot-notebook"
    },
    "polyglot_notebook": {
     "kernelName": "csharp"
    }
   },
   "outputs": [],
   "source": [
    "// Native function definition and kernel configuration code omitted for brevity\n",
    "\n",
    "// Configure and create the plan\n",
    "string planDefinition = \"Read content from a local file and summarize the content.\";\n",
    "SequentialPlanner sequentialPlanner = new SequentialPlanner(kernel);\n",
    "\n",
    "string assetsFolder = @\"../../assets\";\n",
    "string fileName = Path.Combine(assetsFolder,\"docs\",\"06_SemanticKernel\", \"aci_documentation.txt\");\n",
    "\n",
    "ContextVariables contextVariables = new ContextVariables();\n",
    "contextVariables.Add(\"fileName\", fileName);\n",
    "\n",
    "var customPlan = await sequentialPlanner.CreatePlanAsync(planDefinition);\n",
    "\n",
    "// Execute the plan\n",
    "KernelResult kernelResult = await kernel.RunAsync(contextVariables, customPlan);\n",
    "Console.WriteLine($\"Summarization: {kernelResult.GetValue<string>()}\");"
   ]
  },
  {
   "cell_type": "markdown",
   "id": "fd11b973",
   "metadata": {},
   "source": [
    "### f. Memory\n",
    "Semantic Kernel's Vector stores provide abstractions over embedding models, vector databases, and other data to simplify context management for AI applications. Vector stores are agnostic to the underlying LLM or Vector database, offering a uniform developer experience. You can configure memory features to store data in a variety of sources or service, including Azure AI Search and Azure Cache for Redis."
   ]
  },
  {
   "cell_type": "code",
   "execution_count": null,
   "id": "3df54234",
   "metadata": {
    "language_info": {
     "name": "polyglot-notebook"
    },
    "polyglot_notebook": {
     "kernelName": "csharp"
    }
   },
   "outputs": [],
   "source": [
    "var facts = new Dictionary<string,string>();\n",
    "facts.Add(\n",
    "    \"Azure Machine Learning; https://learn.microsoft.com/en-us/azure/machine-learning/\",\n",
    "    @\"Azure Machine Learning is a cloud service for accelerating and\n",
    "    managing the machine learning project lifecycle. Machine learning professionals,\n",
    "    data scientists, and engineers can use it in their day-to-day workflows\"\n",
    ");\n",
    "\n",
    "facts.Add(\n",
    "    \"Azure SQL Service; https://learn.microsoft.com/en-us/azure/azure-sql/\",\n",
    "    @\"Azure SQL is a family of managed, secure, and intelligent products\n",
    "    that use the SQL Server database engine in the Azure cloud.\"\n",
    ");\n",
    "\n",
    "string memoryCollectionName = \"SummarizedAzureDocs\";\n",
    "\n",
    "foreach (var fact in facts) {\n",
    "    await memoryBuilder.SaveReferenceAsync(\n",
    "        collection: memoryCollectionName,\n",
    "        description: fact.Key.Split(\";\")[0].Trim(),\n",
    "        text: fact.Value,\n",
    "        externalId: fact.Key.Split(\";\")[1].Trim(),\n",
    "        externalSourceName: \"Azure Documentation\"\n",
    "    );\n",
    "}"
   ]
  }
 ],
 "metadata": {
  "kernelspec": {
   "display_name": ".NET (C#)",
   "language": "C#",
   "name": ".net-csharp"
  },
  "language_info": {
   "name": "polyglot-notebook"
  },
  "polyglot_notebook": {
   "kernelInfo": {
    "defaultKernelName": "csharp",
    "items": [
     {
      "aliases": [],
      "name": "csharp"
     }
    ]
   }
  }
 },
 "nbformat": 4,
 "nbformat_minor": 5
}
