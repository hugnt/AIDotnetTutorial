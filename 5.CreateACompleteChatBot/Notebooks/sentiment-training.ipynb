{
 "cells": [
  {
   "cell_type": "code",
   "execution_count": 12,
   "id": "06ea4f19",
   "metadata": {
    "language_info": {
     "name": "polyglot-notebook"
    },
    "polyglot_notebook": {
     "kernelName": "csharp"
    }
   },
   "outputs": [
    {
     "data": {
      "text/html": [
       "<div><div></div><div></div><div><strong>Installed Packages</strong><ul><li><span>Microsoft.ML, 4.0.2</span></li><li><span>Microsoft.SemanticKernel, 1.66.0</span></li></ul></div></div>"
      ]
     },
     "metadata": {},
     "output_type": "display_data"
    }
   ],
   "source": [
    "#r \"nuget: Microsoft.ML\"\n",
    "#r \"nuget: Microsoft.SemanticKernel\""
   ]
  },
  {
   "cell_type": "markdown",
   "id": "a5f80fe2",
   "metadata": {},
   "source": [
    "## 1. Import thư viện cần thiết\n",
    "\n",
    "Đầu tiên, chúng ta cần import các namespace từ ML.NET để sử dụng các chức năng machine learning."
   ]
  },
  {
   "cell_type": "code",
   "execution_count": 13,
   "metadata": {
    "language_info": {
     "name": "polyglot-notebook"
    },
    "polyglot_notebook": {
     "kernelName": "csharp"
    }
   },
   "outputs": [],
   "source": [
    "// Import namespace chính của ML.NET để sử dụng MLContext và các chức năng cốt lõi\n",
    "using Microsoft.ML;\n",
    "\n",
    "// Import namespace cho các attribute để định nghĩa cấu trúc data\n",
    "using Microsoft.ML.Data;"
   ]
  },
  {
   "cell_type": "markdown",
   "id": "fb48c8f6",
   "metadata": {},
   "source": [
    "## 2. Định nghĩa class cho dữ liệu đầu vào\n",
    "\n",
    "`SentimentData` là class đại diện cho dữ liệu training, bao gồm text cần phân tích và nhãn cảm xúc tương ứng."
   ]
  },
  {
   "cell_type": "code",
   "execution_count": 14,
   "metadata": {
    "language_info": {
     "name": "polyglot-notebook"
    },
    "polyglot_notebook": {
     "kernelName": "csharp"
    }
   },
   "outputs": [],
   "source": [
    "public class SentimentData\n",
    "{\n",
    "    // LoadColumn(0): Chỉ định rằng property này sẽ được load từ cột 0 của file dữ liệu\n",
    "    [LoadColumn(0)]\n",
    "    public string Text { get; set; }\n",
    "\n",
    "    // LoadColumn(1): Load từ cột 1 của file dữ liệu\n",
    "    // ColumnName(\"Label\"): Đặt tên cột trong ML pipeline là \"Label\"\n",
    "    [LoadColumn(1), ColumnName(\"Label\")]\n",
    "    public bool Sentiment { get; set; } // true = positive, false = negative\n",
    "}"
   ]
  },
  {
   "cell_type": "markdown",
   "id": "0d094ea4",
   "metadata": {},
   "source": [
    "## 3. Định nghĩa class cho kết quả dự đoán\n",
    "\n",
    "`SentimentPrediction` chứa kết quả dự đoán từ mô hình, bao gồm nhãn dự đoán, xác suất và điểm số."
   ]
  },
  {
   "cell_type": "code",
   "execution_count": 15,
   "metadata": {
    "language_info": {
     "name": "polyglot-notebook"
    },
    "polyglot_notebook": {
     "kernelName": "csharp"
    }
   },
   "outputs": [],
   "source": [
    "public class SentimentPrediction\n",
    "{\n",
    "    // ColumnName(\"PredictedLabel\"): Map với cột \"PredictedLabel\" từ output của mô hình\n",
    "    [ColumnName(\"PredictedLabel\")]\n",
    "    public bool Prediction { get; set; } // Kết quả dự đoán: true = positive, false = negative\n",
    "    \n",
    "    // Xác suất của prediction (từ 0.0 đến 1.0)\n",
    "    public float Probability { get; set; }\n",
    "    \n",
    "    // Điểm số raw từ mô hình (có thể âm hoặc dương)\n",
    "    public float Score { get; set; }\n",
    "}"
   ]
  },
  {
   "cell_type": "markdown",
   "id": "800fb3e1",
   "metadata": {},
   "source": [
    "## 4. Khởi tạo ML Context\n",
    "\n",
    "`MLContext` là entry point chính cho tất cả các hoạt động ML.NET. Nó cung cấp các API để load dữ liệu, tạo pipeline và train mô hình."
   ]
  },
  {
   "cell_type": "code",
   "execution_count": 16,
   "metadata": {
    "language_info": {
     "name": "polyglot-notebook"
    },
    "polyglot_notebook": {
     "kernelName": "csharp"
    }
   },
   "outputs": [],
   "source": [
    "// Tạo một instance của MLContext - đây là điểm bắt đầu cho mọi thao tác ML.NET\n",
    "var mlContext = new MLContext();"
   ]
  },
  {
   "cell_type": "markdown",
   "id": "c3341141",
   "metadata": {},
   "source": [
    "## 5. Load dữ liệu training\n",
    "\n",
    "Chúng ta load dữ liệu từ file TSV (Tab-Separated Values) và chuyển đổi thành format mà ML.NET có thể hiểu được."
   ]
  },
  {
   "cell_type": "code",
   "execution_count": 17,
   "metadata": {
    "language_info": {
     "name": "polyglot-notebook"
    },
    "polyglot_notebook": {
     "kernelName": "csharp"
    }
   },
   "outputs": [],
   "source": [
    "// LoadFromTextFile: Load dữ liệu từ file text\n",
    "// <SentimentData>: Chỉ định kiểu dữ liệu để ML.NET biết cách parse\n",
    "// \"data.tsv\": Đường dẫn đến file dữ liệu\n",
    "// hasHeader: true: File có header ở dòng đầu tiên\n",
    "var data = mlContext.Data.LoadFromTextFile<SentimentData>(\n",
    "    \"data.tsv\", hasHeader: true);"
   ]
  },
  {
   "cell_type": "markdown",
   "id": "be575741",
   "metadata": {},
   "source": [
    "## 6. Tạo Machine Learning Pipeline\n",
    "\n",
    "Pipeline định nghĩa các bước xử lý dữ liệu và thuật toán machine learning sẽ được sử dụng."
   ]
  },
  {
   "cell_type": "code",
   "execution_count": 18,
   "metadata": {
    "language_info": {
     "name": "polyglot-notebook"
    },
    "polyglot_notebook": {
     "kernelName": "csharp"
    }
   },
   "outputs": [],
   "source": [
    "// Tạo pipeline với 2 bước:\n",
    "var pipeline = mlContext.Transforms.Text\n",
    "    // Bước 1: FeaturizeText - Chuyển đổi text thành vector số\n",
    "    // \"Features\": Tên cột output chứa features\n",
    "    // nameof(SentimentData.Text): Sử dụng cột Text từ SentimentData làm input\n",
    "    .FeaturizeText(\"Features\", nameof(SentimentData.Text))\n",
    "    \n",
    "    // Bước 2: Append thuật toán SdcaLogisticRegression\n",
    "    // Đây là thuật toán binary classification phù hợp cho sentiment analysis\n",
    "    .Append(mlContext.BinaryClassification.Trainers.SdcaLogisticRegression());"
   ]
  },
  {
   "cell_type": "markdown",
   "id": "6599e9c2",
   "metadata": {},
   "source": [
    "## 7. Train mô hình\n",
    "\n",
    "Sử dụng dữ liệu training để train mô hình theo pipeline đã định nghĩa."
   ]
  },
  {
   "cell_type": "code",
   "execution_count": 19,
   "metadata": {
    "language_info": {
     "name": "polyglot-notebook"
    },
    "polyglot_notebook": {
     "kernelName": "csharp"
    }
   },
   "outputs": [],
   "source": [
    "// Fit: Train mô hình sử dụng dữ liệu training\n",
    "// Kết quả là một mô hình đã được train và sẵn sàng để predict\n",
    "var model = pipeline.Fit(data);"
   ]
  },
  {
   "cell_type": "markdown",
   "id": "109ef85f",
   "metadata": {},
   "source": [
    "## 8. Tạo Prediction Engine\n",
    "\n",
    "Prediction Engine là wrapper giúp thực hiện prediction dễ dàng hơn cho single prediction."
   ]
  },
  {
   "cell_type": "code",
   "execution_count": 20,
   "metadata": {
    "language_info": {
     "name": "polyglot-notebook"
    },
    "polyglot_notebook": {
     "kernelName": "csharp"
    }
   },
   "outputs": [],
   "source": [
    "// CreatePredictionEngine: Tạo engine để thực hiện prediction\n",
    "// <SentimentData, SentimentPrediction>: Chỉ định kiểu input và output\n",
    "var engine = mlContext.Model.CreatePredictionEngine<SentimentData, SentimentPrediction>(model);"
   ]
  },
  {
   "cell_type": "markdown",
   "id": "b40430f5",
   "metadata": {},
   "source": [
    "## 9. Test mô hình với dữ liệu mẫu\n",
    "\n",
    "Thực hiện prediction trên một câu sample để kiểm tra mô hình hoạt động."
   ]
  },
  {
   "cell_type": "code",
   "execution_count": 21,
   "metadata": {
    "language_info": {
     "name": "polyglot-notebook"
    },
    "polyglot_notebook": {
     "kernelName": "csharp"
    }
   },
   "outputs": [
    {
     "name": "stdout",
     "output_type": "stream",
     "text": [
      "Positive: False, Score: -2.2028353\r\n"
     ]
    }
   ],
   "source": [
    "// Tạo dữ liệu sample để test\n",
    "// Câu này có vẻ negative: \"Total waste of time and money\"\n",
    "var sample = new SentimentData { Text = \"Total waste of time and money\" };\n",
    "\n",
    "// Predict: Thực hiện dự đoán cảm xúc cho sample\n",
    "var prediction = engine.Predict(sample);\n",
    "\n",
    "// In kết quả:\n",
    "// Prediction: true/false (positive/negative)\n",
    "// Score: Điểm số raw từ mô hình\n",
    "Console.WriteLine($\"Positive: {prediction.Prediction}, Score: {prediction.Score}\");"
   ]
  }
 ],
 "metadata": {
  "kernelspec": {
   "display_name": ".NET (C#)",
   "language": "C#",
   "name": ".net-csharp"
  },
  "language_info": {
   "name": "polyglot-notebook"
  },
  "polyglot_notebook": {
   "kernelInfo": {
    "defaultKernelName": "csharp",
    "items": [
     {
      "aliases": [],
      "name": "csharp"
     }
    ]
   }
  }
 },
 "nbformat": 4,
 "nbformat_minor": 5
}
