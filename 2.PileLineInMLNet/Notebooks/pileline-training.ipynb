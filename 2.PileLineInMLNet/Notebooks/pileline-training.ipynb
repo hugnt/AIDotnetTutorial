{
 "cells": [
  {
   "cell_type": "code",
   "execution_count": 4,
   "id": "pkg-install",
   "metadata": {
    "language_info": {
     "name": "polyglot-notebook"
    },
    "polyglot_notebook": {
     "kernelName": "csharp"
    }
   },
   "outputs": [
    {
     "data": {
      "text/html": [
       "<div><div></div><div></div><div><strong>Installed Packages</strong><ul><li><span>Microsoft.ML, 4.0.2</span></li><li><span>Microsoft.ML.DataView, 4.0.2</span></li></ul></div></div>"
      ]
     },
     "metadata": {},
     "output_type": "display_data"
    }
   ],
   "source": [
    "#r \"nuget: Microsoft.ML\"\n",
    "#r \"nuget: Microsoft.ML.DataView\""
   ]
  },
  {
   "cell_type": "markdown",
   "id": "imports-md",
   "metadata": {},
   "source": [
    "## 1) Import thư viện cần thiết"
   ]
  },
  {
   "cell_type": "code",
   "execution_count": 5,
   "id": "imports-cs",
   "metadata": {
    "language_info": {
     "name": "polyglot-notebook"
    },
    "polyglot_notebook": {
     "kernelName": "csharp"
    }
   },
   "outputs": [],
   "source": [
    "using System;\n",
    "using System.IO;\n",
    "using Microsoft.ML;\n",
    "using Microsoft.ML.Data;\n",
    "using Microsoft.ML.Transforms.Text;\n",
    "using Microsoft.ML.Trainers;\n"
   ]
  },
  {
   "cell_type": "markdown",
   "id": "data-classes-md",
   "metadata": {},
   "source": [
    "## 2) Định nghĩa class cho dữ liệu đầu vào và kết quả\n",
    "\n",
    "Giải thích: Định nghĩa `ReviewInput` chứa các thuộc tính mapped tới cột file TSV, và `ReviewPrediction` chứa output từ mô hình.\n",
    "Đặt các lớp này trong một ô code riêng để kernel load chúng dễ dàng."
   ]
  },
  {
   "cell_type": "code",
   "execution_count": 6,
   "id": "data-classes-cs",
   "metadata": {
    "language_info": {
     "name": "polyglot-notebook"
    },
    "polyglot_notebook": {
     "kernelName": "csharp"
    }
   },
   "outputs": [],
   "source": [
    "public class ReviewInput\n",
    "{\n",
    "    [LoadColumn(0)]\n",
    "    public string Text { get; set; }\n",
    "\n",
    "    [LoadColumn(1), ColumnName(\"Label\")]\n",
    "    public bool Label { get; set; }\n",
    "}\n",
    "\n",
    "public class ReviewPrediction\n",
    "{\n",
    "    [ColumnName(\"PredictedLabel\")]\n",
    "    public bool Prediction { get; set; }\n",
    "\n",
    "    public float Probability { get; set; }\n",
    "    public float Score { get; set; }\n",
    "}\n"
   ]
  },
  {
   "cell_type": "markdown",
   "id": "mlcontext-md",
   "metadata": {},
   "source": [
    "## 3) Khởi tạo MLContext\n",
    "\n",
    "Giải thích: `MLContext` là entry point — giữ trạng thái cho các thao tác ML.NET (random seed, logging...). Tách ô này nếu bạn muốn thay seed hoặc cài đặt khác."
   ]
  },
  {
   "cell_type": "code",
   "execution_count": 7,
   "id": "mlcontext-cs",
   "metadata": {
    "language_info": {
     "name": "polyglot-notebook"
    },
    "polyglot_notebook": {
     "kernelName": "csharp"
    }
   },
   "outputs": [
    {
     "name": "stdout",
     "output_type": "stream",
     "text": [
      "MLContext created with seed=42\r\n"
     ]
    }
   ],
   "source": [
    "var mlContext = new MLContext(seed: 42);\n",
    "Console.WriteLine(\"MLContext created with seed=42\");"
   ]
  },
  {
   "cell_type": "markdown",
   "id": "generate-data-md",
   "metadata": {},
   "source": [
    "## 4) Tạo / Load dữ liệu mẫu\n",
    "\n",
    "Giải thích: Ô code này sẽ đảm bảo thư mục `Data/` có hai file `train.tsv` và `test.tsv`. Nếu bạn đã có dữ liệu thực, chỉ cần chỉnh đường dẫn và bỏ phần tạo file."
   ]
  },
  {
   "cell_type": "code",
   "execution_count": null,
   "id": "generate-data-cs",
   "metadata": {
    "language_info": {
     "name": "polyglot-notebook"
    },
    "polyglot_notebook": {
     "kernelName": "csharp"
    }
   },
   "outputs": [
    {
     "name": "stdout",
     "output_type": "stream",
     "text": [
      "Data loaded into IDataView objects.\r\n"
     ]
    }
   ],
   "source": [
    "var trainPath = Path.Combine(\"Data\", \"train.tsv\");\n",
    "var testPath = Path.Combine(\"Data\", \"test.tsv\");\n",
    "\n",
    "var trainDataView = mlContext.Data.LoadFromTextFile<ReviewInput>(trainPath, hasHeader: true, separatorChar: '\\t');\n",
    "var testDataView = mlContext.Data.LoadFromTextFile<ReviewInput>(testPath, hasHeader: true, separatorChar: '\\t');\n",
    "\n",
    "//using trainTestSplit \n",
    "var dataPath = Path.Combine(\"Data\", \"train.tsv\");\n",
    "var data = mlContext.Data.LoadFromTextFile<ReviewInput>(dataPath, hasHeader: true, separatorChar: '\\t');\n",
    "var split = mlContext.Data.TrainTestSplit(data, testFraction: 0.2, samplingKeyColumnName: nameof(ReviewInput.Label), seed: 123);\n",
    "var trainSet = split.TrainSet;\n",
    "var testSet  = split.TestSet;\n",
    "\n",
    "Console.WriteLine(\"Data loaded into IDataView objects.\");"
   ]
  },
  {
   "cell_type": "markdown",
   "id": "pipeline-md",
   "metadata": {},
   "source": [
    "## 5) Xây dựng Pipeline\n",
    "\n",
    "Giải thích: Tách rõ phần transform và trainer. Ở đây ta dùng `FeaturizeText` → `NormalizeMinMax` → `Concatenate` → `SdcaLogisticRegression`.\n",
    "Bạn có thể thử thay đổi normalizer hoặc trainer ở ô này."
   ]
  },
  {
   "cell_type": "code",
   "execution_count": 75,
   "id": "pipeline-cs",
   "metadata": {
    "language_info": {
     "name": "polyglot-notebook"
    },
    "polyglot_notebook": {
     "kernelName": "csharp"
    }
   },
   "outputs": [
    {
     "name": "stdout",
     "output_type": "stream",
     "text": [
      "Pipeline created.\r\n"
     ]
    }
   ],
   "source": [
    "var pipeline = mlContext.Transforms.Text\n",
    "    // FeaturizeText: chuyển chuỗi text thành vector số (n-grams, TF-IDF, bag-of-words...). \n",
    "    // -> Tạo cột đầu ra \"TextFeaturized\" chứa các đặc trưng số cho văn bản.\n",
    "    .FeaturizeText(outputColumnName: \"TextFeaturized\", inputColumnName: nameof(ReviewInput.Text))\n",
    "\n",
    "    // NormalizeMinMax: chuẩn hóa các giá trị trong \"TextFeaturized\" về khoảng [0,1].\n",
    "    // -> Giúp các thuật toán (như logistic regression, SVM, ...) hội tụ ổn định hơn,\n",
    "    //    và tránh rằng các chiều có magnitude lớn áp đảo các chiều khác.\n",
    "    .Append(mlContext.Transforms.NormalizeMinMax(\"TextFeaturized\"))\n",
    "\n",
    "    // Concatenate: gộp một hoặc nhiều cột feature vào cột duy nhất \"Features\". (định dạng mà hầu hết trainer yêu cầu)\n",
    "    // -> Các trainers của ML.NET mặc định nhận input là cột \"Features\" (vector duy nhất).\n",
    "    //    Ở đây chúng ta chỉ gộp \"TextFeaturized\" (có thể thêm cột numeric khác nếu có).\n",
    "    .Append(mlContext.Transforms.Concatenate(\"Features\", \"TextFeaturized\"))\n",
    "\n",
    "    // Trainer: sdca logistic regression cho binary classification.\n",
    "    // - labelColumnName: tên cột chứa nhãn (ở đây là \"Label\").\n",
    "    // - featureColumnName: tên cột features (ở đây dùng \"Features\" vừa tạo).\n",
    "    // -> Kết quả là một estimator/transformer huấn luyện mô hình phân loại nhị phân.\n",
    "    .Append(mlContext.BinaryClassification.Trainers.SdcaLogisticRegression(\n",
    "        labelColumnName: \"Label\", featureColumnName: \"Features\"));\n",
    "\n",
    "Console.WriteLine(\"Pipeline created.\");"
   ]
  },
  {
   "cell_type": "markdown",
   "id": "train-md",
   "metadata": {},
   "source": [
    "## 6) Huấn luyện mô hình\n",
    "\n",
    "Giải thích: Fit pipeline trên dữ liệu training. Kết quả là `ITransformer` (model) gồm cả transforms và trainer."
   ]
  },
  {
   "cell_type": "code",
   "execution_count": 76,
   "id": "train-cs",
   "metadata": {
    "language_info": {
     "name": "polyglot-notebook"
    },
    "polyglot_notebook": {
     "kernelName": "csharp"
    }
   },
   "outputs": [
    {
     "name": "stdout",
     "output_type": "stream",
     "text": [
      "Model training completed.\r\n"
     ]
    }
   ],
   "source": [
    "// Fit là lệnh kích hoạt huấn luyện/“fit” của một Estimator (ở đây là pipeline) trên dữ liệu (trainDataView).\n",
    "// Fit biến chuỗi các bước mô tả (Estimator pipeline) thành một pipeline thực thi (Transformer) dùng để dự đoán.\n",
    "var model = pipeline.Fit(trainDataView);\n",
    "Console.WriteLine(\"Model training completed.\");"
   ]
  },
  {
   "cell_type": "markdown",
   "id": "eval-md",
   "metadata": {},
   "source": [
    "## 7) Đánh giá mô hình trên test set\n",
    "\n",
    "Giải thích: Transform test data và dùng `Evaluate` để lấy metrics Accuracy, AUC... Ô code ở dưới sẽ in ra các chỉ số chính."
   ]
  },
  {
   "cell_type": "code",
   "execution_count": 77,
   "id": "eval-cs",
   "metadata": {
    "language_info": {
     "name": "polyglot-notebook"
    },
    "polyglot_notebook": {
     "kernelName": "csharp"
    }
   },
   "outputs": [
    {
     "name": "stdout",
     "output_type": "stream",
     "text": [
      "Accuracy: 100.00%\n",
      "AUC: 100.00%\n"
     ]
    }
   ],
   "source": [
    "// Dùng model đã huấn luyện để chuyển testDataView thành tập dự đoán (scored data)\n",
    "var predictions = model.Transform(testDataView);\n",
    "\n",
    "// Đánh giá bộ dự đoán bằng hàm Evaluate của MLContext.\n",
    "// - predictions: IDataView sau khi đã có các cột do model sinh (Score, Probability, PredictedLabel...).\n",
    "// - labelColumnName: tên cột chứa nhãn thực tế trong test set (ở ví dụ này là \"Label\").\n",
    "var metrics = mlContext.BinaryClassification.Evaluate(predictions, labelColumnName: \"Label\");\n",
    "Console.WriteLine($\"Accuracy: {metrics.Accuracy:P2}\");\n",
    "Console.WriteLine($\"AUC: {metrics.AreaUnderRocCurve:P2}\");"
   ]
  },
  {
   "cell_type": "markdown",
   "id": "predict-engine-md",
   "metadata": {},
   "source": [
    "## 8) Tạo Prediction Engine (single prediction)\n",
    "\n",
    "Giải thích: `PredictionEngine<TSrc,TDest>` phù hợp cho trường hợp dự đoán từng bản ghi (không dùng cho high-concurrency trên server)."
   ]
  },
  {
   "cell_type": "code",
   "execution_count": 78,
   "id": "predict-engine-cs",
   "metadata": {
    "language_info": {
     "name": "polyglot-notebook"
    },
    "polyglot_notebook": {
     "kernelName": "csharp"
    }
   },
   "outputs": [
    {
     "name": "stdout",
     "output_type": "stream",
     "text": [
      "Prediction engine created.\r\n"
     ]
    }
   ],
   "source": [
    "var engine = mlContext.Model.CreatePredictionEngine<ReviewInput, ReviewPrediction>(model);\n",
    "Console.WriteLine(\"Prediction engine created.\");"
   ]
  },
  {
   "cell_type": "markdown",
   "id": "sample-predict-md",
   "metadata": {},
   "source": [
    "## 9) Dự đoán mẫu\n",
    "\n",
    "Giải thích: Dùng `engine.Predict` trên một sample để kiểm tra kết quả dự đoán và score."
   ]
  },
  {
   "cell_type": "code",
   "execution_count": 79,
   "id": "sample-predict-cs",
   "metadata": {
    "language_info": {
     "name": "polyglot-notebook"
    },
    "polyglot_notebook": {
     "kernelName": "csharp"
    }
   },
   "outputs": [
    {
     "name": "stdout",
     "output_type": "stream",
     "text": [
      "Prediction: True, Probability: 99.12%, Score: 4.728811\r\n"
     ]
    }
   ],
   "source": [
    "var sample = new ReviewInput { Text = \"Quá tuyệt vời, dịch vụ rất chuyên nghiệp\" };\n",
    "var pred = engine.Predict(sample);\n",
    "Console.WriteLine($\"Prediction: {pred.Prediction}, Probability: {pred.Probability:P2}, Score: {pred.Score}\");"
   ]
  },
  {
   "cell_type": "markdown",
   "id": "save-model-md",
   "metadata": {},
   "source": [
    "## 10) Lưu mô hình\n"
   ]
  },
  {
   "cell_type": "code",
   "execution_count": null,
   "id": "save-model-cs",
   "metadata": {
    "language_info": {
     "name": "polyglot-notebook"
    },
    "polyglot_notebook": {
     "kernelName": "csharp"
    }
   },
   "outputs": [
    {
     "name": "stdout",
     "output_type": "stream",
     "text": [
      "Model saved to MLModels\\reviewModel.zip\r\n"
     ]
    }
   ],
   "source": [
    "var modelPath = Path.Combine(\"ExportedModels\", \"reviewModel.zip\");\n",
    "mlContext.Model.Save(model, trainDataView.Schema, modelPath);\n",
    "Console.WriteLine($\"Model saved to {modelPath}\");"
   ]
  }
 ],
 "metadata": {
  "kernelspec": {
   "display_name": ".NET (C#)",
   "language": "C#",
   "name": ".net-csharp"
  },
  "language_info": {
   "name": "polyglot-notebook"
  },
  "polyglot_notebook": {
   "kernelInfo": {
    "defaultKernelName": "csharp",
    "items": [
     {
      "aliases": [],
      "name": "csharp"
     }
    ]
   }
  }
 },
 "nbformat": 4,
 "nbformat_minor": 5
}
